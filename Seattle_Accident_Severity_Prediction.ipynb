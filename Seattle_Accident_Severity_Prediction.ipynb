{
 "cells": [
  {
   "cell_type": "markdown",
   "metadata": {},
   "source": [
    "# Accident Severity Probability Prediction in Seattle City\n",
    "## IBM Coursera Applied Data Science Capstone Project\n",
    "### Abednego Kristanto\n",
    "### September 2020\n",
    "<br>"
   ]
  },
  {
   "cell_type": "markdown",
   "metadata": {},
   "source": [
    "## 1. Problem Introduction\n",
    "Data to represent road condition that lead to accident is needed for accident severity analysis and prediction. These data could be the the road condition during the accident, the weather, the light condition, the driver condition, etc. From these data, a model could be built to predict the severity of accident if it occurs during that particular road, and driver conditions."
   ]
  },
  {
   "cell_type": "code",
   "execution_count": 1,
   "metadata": {},
   "outputs": [],
   "source": [
    "import pandas as pd\n",
    "import numpy as np"
   ]
  },
  {
   "cell_type": "markdown",
   "metadata": {},
   "source": [
    "## 2. Data Acquisition, Selection, and Cleaning\n",
    "### 2.1. Data Acquisition\n",
    "Dataset acquired from https://s3.us.cloud-object-storage.appdomain.cloud/cf-courses-data/CognitiveClass/DP0701EN/version-2/Data-Collisions.csv. The metadata for this dataset can be downloaded in https://s3.us.cloud-object-storage.appdomain.cloud/cf-courses-data/CognitiveClass/DP0701EN/version-2/Metadata.pdf."
   ]
  },
  {
   "cell_type": "code",
   "execution_count": 2,
   "metadata": {
    "scrolled": false
   },
   "outputs": [
    {
     "name": "stderr",
     "output_type": "stream",
     "text": [
      "C:\\Users\\ABEDNEGO\\Anaconda3\\lib\\site-packages\\IPython\\core\\interactiveshell.py:3146: DtypeWarning: Columns (33) have mixed types.Specify dtype option on import or set low_memory=False.\n",
      "  interactivity=interactivity, compiler=compiler, result=result)\n"
     ]
    },
    {
     "data": {
      "text/html": [
       "<div>\n",
       "<style scoped>\n",
       "    .dataframe tbody tr th:only-of-type {\n",
       "        vertical-align: middle;\n",
       "    }\n",
       "\n",
       "    .dataframe tbody tr th {\n",
       "        vertical-align: top;\n",
       "    }\n",
       "\n",
       "    .dataframe thead th {\n",
       "        text-align: right;\n",
       "    }\n",
       "</style>\n",
       "<table border=\"1\" class=\"dataframe\">\n",
       "  <thead>\n",
       "    <tr style=\"text-align: right;\">\n",
       "      <th></th>\n",
       "      <th>SEVERITYCODE</th>\n",
       "      <th>X</th>\n",
       "      <th>Y</th>\n",
       "      <th>OBJECTID</th>\n",
       "      <th>INCKEY</th>\n",
       "      <th>COLDETKEY</th>\n",
       "      <th>REPORTNO</th>\n",
       "      <th>STATUS</th>\n",
       "      <th>ADDRTYPE</th>\n",
       "      <th>INTKEY</th>\n",
       "      <th>...</th>\n",
       "      <th>ROADCOND</th>\n",
       "      <th>LIGHTCOND</th>\n",
       "      <th>PEDROWNOTGRNT</th>\n",
       "      <th>SDOTCOLNUM</th>\n",
       "      <th>SPEEDING</th>\n",
       "      <th>ST_COLCODE</th>\n",
       "      <th>ST_COLDESC</th>\n",
       "      <th>SEGLANEKEY</th>\n",
       "      <th>CROSSWALKKEY</th>\n",
       "      <th>HITPARKEDCAR</th>\n",
       "    </tr>\n",
       "  </thead>\n",
       "  <tbody>\n",
       "    <tr>\n",
       "      <th>0</th>\n",
       "      <td>2</td>\n",
       "      <td>-122.323148</td>\n",
       "      <td>47.703140</td>\n",
       "      <td>1</td>\n",
       "      <td>1307</td>\n",
       "      <td>1307</td>\n",
       "      <td>3502005</td>\n",
       "      <td>Matched</td>\n",
       "      <td>Intersection</td>\n",
       "      <td>37475.0</td>\n",
       "      <td>...</td>\n",
       "      <td>Wet</td>\n",
       "      <td>Daylight</td>\n",
       "      <td>NaN</td>\n",
       "      <td>NaN</td>\n",
       "      <td>NaN</td>\n",
       "      <td>10</td>\n",
       "      <td>Entering at angle</td>\n",
       "      <td>0</td>\n",
       "      <td>0</td>\n",
       "      <td>N</td>\n",
       "    </tr>\n",
       "    <tr>\n",
       "      <th>1</th>\n",
       "      <td>1</td>\n",
       "      <td>-122.347294</td>\n",
       "      <td>47.647172</td>\n",
       "      <td>2</td>\n",
       "      <td>52200</td>\n",
       "      <td>52200</td>\n",
       "      <td>2607959</td>\n",
       "      <td>Matched</td>\n",
       "      <td>Block</td>\n",
       "      <td>NaN</td>\n",
       "      <td>...</td>\n",
       "      <td>Wet</td>\n",
       "      <td>Dark - Street Lights On</td>\n",
       "      <td>NaN</td>\n",
       "      <td>6354039.0</td>\n",
       "      <td>NaN</td>\n",
       "      <td>11</td>\n",
       "      <td>From same direction - both going straight - bo...</td>\n",
       "      <td>0</td>\n",
       "      <td>0</td>\n",
       "      <td>N</td>\n",
       "    </tr>\n",
       "    <tr>\n",
       "      <th>2</th>\n",
       "      <td>1</td>\n",
       "      <td>-122.334540</td>\n",
       "      <td>47.607871</td>\n",
       "      <td>3</td>\n",
       "      <td>26700</td>\n",
       "      <td>26700</td>\n",
       "      <td>1482393</td>\n",
       "      <td>Matched</td>\n",
       "      <td>Block</td>\n",
       "      <td>NaN</td>\n",
       "      <td>...</td>\n",
       "      <td>Dry</td>\n",
       "      <td>Daylight</td>\n",
       "      <td>NaN</td>\n",
       "      <td>4323031.0</td>\n",
       "      <td>NaN</td>\n",
       "      <td>32</td>\n",
       "      <td>One parked--one moving</td>\n",
       "      <td>0</td>\n",
       "      <td>0</td>\n",
       "      <td>N</td>\n",
       "    </tr>\n",
       "    <tr>\n",
       "      <th>3</th>\n",
       "      <td>1</td>\n",
       "      <td>-122.334803</td>\n",
       "      <td>47.604803</td>\n",
       "      <td>4</td>\n",
       "      <td>1144</td>\n",
       "      <td>1144</td>\n",
       "      <td>3503937</td>\n",
       "      <td>Matched</td>\n",
       "      <td>Block</td>\n",
       "      <td>NaN</td>\n",
       "      <td>...</td>\n",
       "      <td>Dry</td>\n",
       "      <td>Daylight</td>\n",
       "      <td>NaN</td>\n",
       "      <td>NaN</td>\n",
       "      <td>NaN</td>\n",
       "      <td>23</td>\n",
       "      <td>From same direction - all others</td>\n",
       "      <td>0</td>\n",
       "      <td>0</td>\n",
       "      <td>N</td>\n",
       "    </tr>\n",
       "    <tr>\n",
       "      <th>4</th>\n",
       "      <td>2</td>\n",
       "      <td>-122.306426</td>\n",
       "      <td>47.545739</td>\n",
       "      <td>5</td>\n",
       "      <td>17700</td>\n",
       "      <td>17700</td>\n",
       "      <td>1807429</td>\n",
       "      <td>Matched</td>\n",
       "      <td>Intersection</td>\n",
       "      <td>34387.0</td>\n",
       "      <td>...</td>\n",
       "      <td>Wet</td>\n",
       "      <td>Daylight</td>\n",
       "      <td>NaN</td>\n",
       "      <td>4028032.0</td>\n",
       "      <td>NaN</td>\n",
       "      <td>10</td>\n",
       "      <td>Entering at angle</td>\n",
       "      <td>0</td>\n",
       "      <td>0</td>\n",
       "      <td>N</td>\n",
       "    </tr>\n",
       "  </tbody>\n",
       "</table>\n",
       "<p>5 rows × 38 columns</p>\n",
       "</div>"
      ],
      "text/plain": [
       "   SEVERITYCODE           X          Y  OBJECTID  INCKEY  COLDETKEY REPORTNO  \\\n",
       "0             2 -122.323148  47.703140         1    1307       1307  3502005   \n",
       "1             1 -122.347294  47.647172         2   52200      52200  2607959   \n",
       "2             1 -122.334540  47.607871         3   26700      26700  1482393   \n",
       "3             1 -122.334803  47.604803         4    1144       1144  3503937   \n",
       "4             2 -122.306426  47.545739         5   17700      17700  1807429   \n",
       "\n",
       "    STATUS      ADDRTYPE   INTKEY  ... ROADCOND                LIGHTCOND  \\\n",
       "0  Matched  Intersection  37475.0  ...      Wet                 Daylight   \n",
       "1  Matched         Block      NaN  ...      Wet  Dark - Street Lights On   \n",
       "2  Matched         Block      NaN  ...      Dry                 Daylight   \n",
       "3  Matched         Block      NaN  ...      Dry                 Daylight   \n",
       "4  Matched  Intersection  34387.0  ...      Wet                 Daylight   \n",
       "\n",
       "  PEDROWNOTGRNT  SDOTCOLNUM SPEEDING ST_COLCODE  \\\n",
       "0           NaN         NaN      NaN         10   \n",
       "1           NaN   6354039.0      NaN         11   \n",
       "2           NaN   4323031.0      NaN         32   \n",
       "3           NaN         NaN      NaN         23   \n",
       "4           NaN   4028032.0      NaN         10   \n",
       "\n",
       "                                          ST_COLDESC  SEGLANEKEY  \\\n",
       "0                                  Entering at angle           0   \n",
       "1  From same direction - both going straight - bo...           0   \n",
       "2                             One parked--one moving           0   \n",
       "3                   From same direction - all others           0   \n",
       "4                                  Entering at angle           0   \n",
       "\n",
       "   CROSSWALKKEY  HITPARKEDCAR  \n",
       "0             0             N  \n",
       "1             0             N  \n",
       "2             0             N  \n",
       "3             0             N  \n",
       "4             0             N  \n",
       "\n",
       "[5 rows x 38 columns]"
      ]
     },
     "execution_count": 2,
     "metadata": {},
     "output_type": "execute_result"
    }
   ],
   "source": [
    "df = pd.read_csv(\"file:///C:/Users/ABEDNEGO//Data-Collisions.csv\")\n",
    "df.head()"
   ]
  },
  {
   "cell_type": "markdown",
   "metadata": {},
   "source": [
    "Check the time range of the data"
   ]
  },
  {
   "cell_type": "code",
   "execution_count": 3,
   "metadata": {
    "scrolled": true
   },
   "outputs": [
    {
     "name": "stdout",
     "output_type": "stream",
     "text": [
      "Data start date: 2004/01/01 00:00:00+00\n",
      "Data end date 2020/05/20 00:00:00+00\n"
     ]
    }
   ],
   "source": [
    "time = df.sort_values(by='INCDATE')\n",
    "print(\"Data start date:\", time['INCDATE'].head(1).item())\n",
    "print(\"Data end date\", time['INCDATE'].tail(1).item())"
   ]
  },
  {
   "cell_type": "markdown",
   "metadata": {},
   "source": [
    "Drop missing data rename columns, so that latitudes is in feature 'LATITUDE' and longitudes is in feature 'LONGITUDE' "
   ]
  },
  {
   "cell_type": "code",
   "execution_count": 4,
   "metadata": {},
   "outputs": [
    {
     "name": "stdout",
     "output_type": "stream",
     "text": [
      "(189339, 38)\n"
     ]
    },
    {
     "data": {
      "text/html": [
       "<div>\n",
       "<style scoped>\n",
       "    .dataframe tbody tr th:only-of-type {\n",
       "        vertical-align: middle;\n",
       "    }\n",
       "\n",
       "    .dataframe tbody tr th {\n",
       "        vertical-align: top;\n",
       "    }\n",
       "\n",
       "    .dataframe thead th {\n",
       "        text-align: right;\n",
       "    }\n",
       "</style>\n",
       "<table border=\"1\" class=\"dataframe\">\n",
       "  <thead>\n",
       "    <tr style=\"text-align: right;\">\n",
       "      <th></th>\n",
       "      <th>SEVERITYCODE</th>\n",
       "      <th>LONGITUDE</th>\n",
       "      <th>LATITUDE</th>\n",
       "      <th>OBJECTID</th>\n",
       "      <th>INCKEY</th>\n",
       "      <th>COLDETKEY</th>\n",
       "      <th>REPORTNO</th>\n",
       "      <th>STATUS</th>\n",
       "      <th>ADDRTYPE</th>\n",
       "      <th>INTKEY</th>\n",
       "      <th>...</th>\n",
       "      <th>ROADCOND</th>\n",
       "      <th>LIGHTCOND</th>\n",
       "      <th>PEDROWNOTGRNT</th>\n",
       "      <th>SDOTCOLNUM</th>\n",
       "      <th>SPEEDING</th>\n",
       "      <th>ST_COLCODE</th>\n",
       "      <th>ST_COLDESC</th>\n",
       "      <th>SEGLANEKEY</th>\n",
       "      <th>CROSSWALKKEY</th>\n",
       "      <th>HITPARKEDCAR</th>\n",
       "    </tr>\n",
       "  </thead>\n",
       "  <tbody>\n",
       "    <tr>\n",
       "      <th>0</th>\n",
       "      <td>2</td>\n",
       "      <td>-122.323148</td>\n",
       "      <td>47.703140</td>\n",
       "      <td>1</td>\n",
       "      <td>1307</td>\n",
       "      <td>1307</td>\n",
       "      <td>3502005</td>\n",
       "      <td>Matched</td>\n",
       "      <td>Intersection</td>\n",
       "      <td>37475.0</td>\n",
       "      <td>...</td>\n",
       "      <td>Wet</td>\n",
       "      <td>Daylight</td>\n",
       "      <td>NaN</td>\n",
       "      <td>NaN</td>\n",
       "      <td>NaN</td>\n",
       "      <td>10</td>\n",
       "      <td>Entering at angle</td>\n",
       "      <td>0</td>\n",
       "      <td>0</td>\n",
       "      <td>N</td>\n",
       "    </tr>\n",
       "    <tr>\n",
       "      <th>1</th>\n",
       "      <td>1</td>\n",
       "      <td>-122.347294</td>\n",
       "      <td>47.647172</td>\n",
       "      <td>2</td>\n",
       "      <td>52200</td>\n",
       "      <td>52200</td>\n",
       "      <td>2607959</td>\n",
       "      <td>Matched</td>\n",
       "      <td>Block</td>\n",
       "      <td>NaN</td>\n",
       "      <td>...</td>\n",
       "      <td>Wet</td>\n",
       "      <td>Dark - Street Lights On</td>\n",
       "      <td>NaN</td>\n",
       "      <td>6354039.0</td>\n",
       "      <td>NaN</td>\n",
       "      <td>11</td>\n",
       "      <td>From same direction - both going straight - bo...</td>\n",
       "      <td>0</td>\n",
       "      <td>0</td>\n",
       "      <td>N</td>\n",
       "    </tr>\n",
       "    <tr>\n",
       "      <th>2</th>\n",
       "      <td>1</td>\n",
       "      <td>-122.334540</td>\n",
       "      <td>47.607871</td>\n",
       "      <td>3</td>\n",
       "      <td>26700</td>\n",
       "      <td>26700</td>\n",
       "      <td>1482393</td>\n",
       "      <td>Matched</td>\n",
       "      <td>Block</td>\n",
       "      <td>NaN</td>\n",
       "      <td>...</td>\n",
       "      <td>Dry</td>\n",
       "      <td>Daylight</td>\n",
       "      <td>NaN</td>\n",
       "      <td>4323031.0</td>\n",
       "      <td>NaN</td>\n",
       "      <td>32</td>\n",
       "      <td>One parked--one moving</td>\n",
       "      <td>0</td>\n",
       "      <td>0</td>\n",
       "      <td>N</td>\n",
       "    </tr>\n",
       "    <tr>\n",
       "      <th>3</th>\n",
       "      <td>1</td>\n",
       "      <td>-122.334803</td>\n",
       "      <td>47.604803</td>\n",
       "      <td>4</td>\n",
       "      <td>1144</td>\n",
       "      <td>1144</td>\n",
       "      <td>3503937</td>\n",
       "      <td>Matched</td>\n",
       "      <td>Block</td>\n",
       "      <td>NaN</td>\n",
       "      <td>...</td>\n",
       "      <td>Dry</td>\n",
       "      <td>Daylight</td>\n",
       "      <td>NaN</td>\n",
       "      <td>NaN</td>\n",
       "      <td>NaN</td>\n",
       "      <td>23</td>\n",
       "      <td>From same direction - all others</td>\n",
       "      <td>0</td>\n",
       "      <td>0</td>\n",
       "      <td>N</td>\n",
       "    </tr>\n",
       "    <tr>\n",
       "      <th>4</th>\n",
       "      <td>2</td>\n",
       "      <td>-122.306426</td>\n",
       "      <td>47.545739</td>\n",
       "      <td>5</td>\n",
       "      <td>17700</td>\n",
       "      <td>17700</td>\n",
       "      <td>1807429</td>\n",
       "      <td>Matched</td>\n",
       "      <td>Intersection</td>\n",
       "      <td>34387.0</td>\n",
       "      <td>...</td>\n",
       "      <td>Wet</td>\n",
       "      <td>Daylight</td>\n",
       "      <td>NaN</td>\n",
       "      <td>4028032.0</td>\n",
       "      <td>NaN</td>\n",
       "      <td>10</td>\n",
       "      <td>Entering at angle</td>\n",
       "      <td>0</td>\n",
       "      <td>0</td>\n",
       "      <td>N</td>\n",
       "    </tr>\n",
       "  </tbody>\n",
       "</table>\n",
       "<p>5 rows × 38 columns</p>\n",
       "</div>"
      ],
      "text/plain": [
       "   SEVERITYCODE   LONGITUDE   LATITUDE  OBJECTID  INCKEY  COLDETKEY REPORTNO  \\\n",
       "0             2 -122.323148  47.703140         1    1307       1307  3502005   \n",
       "1             1 -122.347294  47.647172         2   52200      52200  2607959   \n",
       "2             1 -122.334540  47.607871         3   26700      26700  1482393   \n",
       "3             1 -122.334803  47.604803         4    1144       1144  3503937   \n",
       "4             2 -122.306426  47.545739         5   17700      17700  1807429   \n",
       "\n",
       "    STATUS      ADDRTYPE   INTKEY  ... ROADCOND                LIGHTCOND  \\\n",
       "0  Matched  Intersection  37475.0  ...      Wet                 Daylight   \n",
       "1  Matched         Block      NaN  ...      Wet  Dark - Street Lights On   \n",
       "2  Matched         Block      NaN  ...      Dry                 Daylight   \n",
       "3  Matched         Block      NaN  ...      Dry                 Daylight   \n",
       "4  Matched  Intersection  34387.0  ...      Wet                 Daylight   \n",
       "\n",
       "  PEDROWNOTGRNT  SDOTCOLNUM SPEEDING ST_COLCODE  \\\n",
       "0           NaN         NaN      NaN         10   \n",
       "1           NaN   6354039.0      NaN         11   \n",
       "2           NaN   4323031.0      NaN         32   \n",
       "3           NaN         NaN      NaN         23   \n",
       "4           NaN   4028032.0      NaN         10   \n",
       "\n",
       "                                          ST_COLDESC  SEGLANEKEY  \\\n",
       "0                                  Entering at angle           0   \n",
       "1  From same direction - both going straight - bo...           0   \n",
       "2                             One parked--one moving           0   \n",
       "3                   From same direction - all others           0   \n",
       "4                                  Entering at angle           0   \n",
       "\n",
       "   CROSSWALKKEY  HITPARKEDCAR  \n",
       "0             0             N  \n",
       "1             0             N  \n",
       "2             0             N  \n",
       "3             0             N  \n",
       "4             0             N  \n",
       "\n",
       "[5 rows x 38 columns]"
      ]
     },
     "execution_count": 4,
     "metadata": {},
     "output_type": "execute_result"
    }
   ],
   "source": [
    "df = df.dropna(subset=[\"X\"], axis=0)\n",
    "df = df.dropna(subset=[\"Y\"], axis=0)\n",
    "df = df.rename(columns={'X':'LONGITUDE', 'Y':'LATITUDE'})\n",
    "print(df.shape)\n",
    "df.head()"
   ]
  },
  {
   "cell_type": "markdown",
   "metadata": {},
   "source": [
    "### 2.2. Features Selection\n",
    "Checking all the features in the dataset, then selecting relevant features for modelling."
   ]
  },
  {
   "cell_type": "code",
   "execution_count": 5,
   "metadata": {},
   "outputs": [
    {
     "name": "stdout",
     "output_type": "stream",
     "text": [
      "Mid-Block (not related to intersection)              87390\n",
      "At Intersection (intersection related)               62491\n",
      "Mid-Block (but intersection related)                 22465\n",
      "Driveway Junction                                    10580\n",
      "At Intersection (but not related to intersection)     2071\n",
      "Ramp Junction                                          143\n",
      "Unknown                                                  6\n",
      "Name: JUNCTIONTYPE, dtype: int64\n",
      "185146\n",
      "Block           124591\n",
      "Intersection     64748\n",
      "Name: ADDRTYPE, dtype: int64\n",
      "189339\n"
     ]
    }
   ],
   "source": [
    "print(df['JUNCTIONTYPE'].value_counts())\n",
    "print(df['JUNCTIONTYPE'].value_counts().sum())\n",
    "print(df['ADDRTYPE'].value_counts())\n",
    "print(df['ADDRTYPE'].value_counts().sum())"
   ]
  },
  {
   "cell_type": "code",
   "execution_count": 6,
   "metadata": {},
   "outputs": [
    {
     "data": {
      "text/plain": [
       "Index(['SEVERITYCODE', 'LONGITUDE', 'LATITUDE', 'OBJECTID', 'INCKEY',\n",
       "       'COLDETKEY', 'REPORTNO', 'STATUS', 'ADDRTYPE', 'INTKEY', 'LOCATION',\n",
       "       'EXCEPTRSNCODE', 'EXCEPTRSNDESC', 'SEVERITYCODE.1', 'SEVERITYDESC',\n",
       "       'COLLISIONTYPE', 'PERSONCOUNT', 'PEDCOUNT', 'PEDCYLCOUNT', 'VEHCOUNT',\n",
       "       'INCDATE', 'INCDTTM', 'JUNCTIONTYPE', 'SDOT_COLCODE', 'SDOT_COLDESC',\n",
       "       'INATTENTIONIND', 'UNDERINFL', 'WEATHER', 'ROADCOND', 'LIGHTCOND',\n",
       "       'PEDROWNOTGRNT', 'SDOTCOLNUM', 'SPEEDING', 'ST_COLCODE', 'ST_COLDESC',\n",
       "       'SEGLANEKEY', 'CROSSWALKKEY', 'HITPARKEDCAR'],\n",
       "      dtype='object')"
      ]
     },
     "execution_count": 6,
     "metadata": {},
     "output_type": "execute_result"
    }
   ],
   "source": [
    "df.columns"
   ]
  },
  {
   "cell_type": "code",
   "execution_count": 7,
   "metadata": {},
   "outputs": [
    {
     "data": {
      "text/html": [
       "<div>\n",
       "<style scoped>\n",
       "    .dataframe tbody tr th:only-of-type {\n",
       "        vertical-align: middle;\n",
       "    }\n",
       "\n",
       "    .dataframe tbody tr th {\n",
       "        vertical-align: top;\n",
       "    }\n",
       "\n",
       "    .dataframe thead th {\n",
       "        text-align: right;\n",
       "    }\n",
       "</style>\n",
       "<table border=\"1\" class=\"dataframe\">\n",
       "  <thead>\n",
       "    <tr style=\"text-align: right;\">\n",
       "      <th></th>\n",
       "      <th>LATITUDE</th>\n",
       "      <th>LONGITUDE</th>\n",
       "      <th>ADDRTYPE</th>\n",
       "      <th>PERSONCOUNT</th>\n",
       "      <th>VEHCOUNT</th>\n",
       "      <th>INATTENTIONIND</th>\n",
       "      <th>UNDERINFL</th>\n",
       "      <th>WEATHER</th>\n",
       "      <th>ROADCOND</th>\n",
       "      <th>LIGHTCOND</th>\n",
       "      <th>SPEEDING</th>\n",
       "      <th>SEVERITYCODE</th>\n",
       "    </tr>\n",
       "  </thead>\n",
       "  <tbody>\n",
       "    <tr>\n",
       "      <th>0</th>\n",
       "      <td>47.703140</td>\n",
       "      <td>-122.323148</td>\n",
       "      <td>Intersection</td>\n",
       "      <td>2</td>\n",
       "      <td>2</td>\n",
       "      <td>NaN</td>\n",
       "      <td>N</td>\n",
       "      <td>Overcast</td>\n",
       "      <td>Wet</td>\n",
       "      <td>Daylight</td>\n",
       "      <td>NaN</td>\n",
       "      <td>2</td>\n",
       "    </tr>\n",
       "    <tr>\n",
       "      <th>1</th>\n",
       "      <td>47.647172</td>\n",
       "      <td>-122.347294</td>\n",
       "      <td>Block</td>\n",
       "      <td>2</td>\n",
       "      <td>2</td>\n",
       "      <td>NaN</td>\n",
       "      <td>0</td>\n",
       "      <td>Raining</td>\n",
       "      <td>Wet</td>\n",
       "      <td>Dark - Street Lights On</td>\n",
       "      <td>NaN</td>\n",
       "      <td>1</td>\n",
       "    </tr>\n",
       "    <tr>\n",
       "      <th>2</th>\n",
       "      <td>47.607871</td>\n",
       "      <td>-122.334540</td>\n",
       "      <td>Block</td>\n",
       "      <td>4</td>\n",
       "      <td>3</td>\n",
       "      <td>NaN</td>\n",
       "      <td>0</td>\n",
       "      <td>Overcast</td>\n",
       "      <td>Dry</td>\n",
       "      <td>Daylight</td>\n",
       "      <td>NaN</td>\n",
       "      <td>1</td>\n",
       "    </tr>\n",
       "    <tr>\n",
       "      <th>3</th>\n",
       "      <td>47.604803</td>\n",
       "      <td>-122.334803</td>\n",
       "      <td>Block</td>\n",
       "      <td>3</td>\n",
       "      <td>3</td>\n",
       "      <td>NaN</td>\n",
       "      <td>N</td>\n",
       "      <td>Clear</td>\n",
       "      <td>Dry</td>\n",
       "      <td>Daylight</td>\n",
       "      <td>NaN</td>\n",
       "      <td>1</td>\n",
       "    </tr>\n",
       "    <tr>\n",
       "      <th>4</th>\n",
       "      <td>47.545739</td>\n",
       "      <td>-122.306426</td>\n",
       "      <td>Intersection</td>\n",
       "      <td>2</td>\n",
       "      <td>2</td>\n",
       "      <td>NaN</td>\n",
       "      <td>0</td>\n",
       "      <td>Raining</td>\n",
       "      <td>Wet</td>\n",
       "      <td>Daylight</td>\n",
       "      <td>NaN</td>\n",
       "      <td>2</td>\n",
       "    </tr>\n",
       "  </tbody>\n",
       "</table>\n",
       "</div>"
      ],
      "text/plain": [
       "    LATITUDE   LONGITUDE      ADDRTYPE  PERSONCOUNT  VEHCOUNT INATTENTIONIND  \\\n",
       "0  47.703140 -122.323148  Intersection            2         2            NaN   \n",
       "1  47.647172 -122.347294         Block            2         2            NaN   \n",
       "2  47.607871 -122.334540         Block            4         3            NaN   \n",
       "3  47.604803 -122.334803         Block            3         3            NaN   \n",
       "4  47.545739 -122.306426  Intersection            2         2            NaN   \n",
       "\n",
       "  UNDERINFL   WEATHER ROADCOND                LIGHTCOND SPEEDING  SEVERITYCODE  \n",
       "0         N  Overcast      Wet                 Daylight      NaN             2  \n",
       "1         0   Raining      Wet  Dark - Street Lights On      NaN             1  \n",
       "2         0  Overcast      Dry                 Daylight      NaN             1  \n",
       "3         N     Clear      Dry                 Daylight      NaN             1  \n",
       "4         0   Raining      Wet                 Daylight      NaN             2  "
      ]
     },
     "execution_count": 7,
     "metadata": {},
     "output_type": "execute_result"
    }
   ],
   "source": [
    "model_df = df[['LATITUDE', 'LONGITUDE', 'ADDRTYPE', 'PERSONCOUNT', 'VEHCOUNT', 'INATTENTIONIND', 'UNDERINFL',\\\n",
    "               'WEATHER', 'ROADCOND', 'LIGHTCOND', 'SPEEDING', 'SEVERITYCODE']]\n",
    "model_df.head()"
   ]
  },
  {
   "cell_type": "markdown",
   "metadata": {},
   "source": [
    "### 2.3. Data Cleaning\n",
    "Checking missing data in each feature.<br>\n",
    "False: Data is available.<br>\n",
    "True: Data is missing."
   ]
  },
  {
   "cell_type": "code",
   "execution_count": 8,
   "metadata": {
    "scrolled": false
   },
   "outputs": [
    {
     "name": "stdout",
     "output_type": "stream",
     "text": [
      "LATITUDE\n",
      "False    189339\n",
      "Name: LATITUDE, dtype: int64\n",
      "\n",
      "LONGITUDE\n",
      "False    189339\n",
      "Name: LONGITUDE, dtype: int64\n",
      "\n",
      "ADDRTYPE\n",
      "False    189339\n",
      "Name: ADDRTYPE, dtype: int64\n",
      "\n",
      "PERSONCOUNT\n",
      "False    189339\n",
      "Name: PERSONCOUNT, dtype: int64\n",
      "\n",
      "VEHCOUNT\n",
      "False    189339\n",
      "Name: VEHCOUNT, dtype: int64\n",
      "\n",
      "INATTENTIONIND\n",
      "True     160163\n",
      "False     29176\n",
      "Name: INATTENTIONIND, dtype: int64\n",
      "\n",
      "UNDERINFL\n",
      "False    184602\n",
      "True       4737\n",
      "Name: UNDERINFL, dtype: int64\n",
      "\n",
      "WEATHER\n",
      "False    184414\n",
      "True       4925\n",
      "Name: WEATHER, dtype: int64\n",
      "\n",
      "ROADCOND\n",
      "False    184481\n",
      "True       4858\n",
      "Name: ROADCOND, dtype: int64\n",
      "\n",
      "LIGHTCOND\n",
      "False    184327\n",
      "True       5012\n",
      "Name: LIGHTCOND, dtype: int64\n",
      "\n",
      "SPEEDING\n",
      "True     180619\n",
      "False      8720\n",
      "Name: SPEEDING, dtype: int64\n",
      "\n",
      "SEVERITYCODE\n",
      "False    189339\n",
      "Name: SEVERITYCODE, dtype: int64\n",
      "\n"
     ]
    }
   ],
   "source": [
    "missing_values = model_df.isnull()\n",
    "for column in missing_values.columns.values.tolist():\n",
    "    print(column)\n",
    "    print (missing_values[column].value_counts())\n",
    "    print(\"\")"
   ]
  },
  {
   "cell_type": "markdown",
   "metadata": {},
   "source": [
    "Drop and replace missing data."
   ]
  },
  {
   "cell_type": "code",
   "execution_count": 9,
   "metadata": {
    "scrolled": false
   },
   "outputs": [
    {
     "data": {
      "text/plain": [
       "(189339, 12)"
      ]
     },
     "execution_count": 9,
     "metadata": {},
     "output_type": "execute_result"
    }
   ],
   "source": [
    "clean_df = model_df.copy()\n",
    "\n",
    "clean_df.dropna(subset=[\"ADDRTYPE\"], axis=0, inplace=True)\n",
    "clean_df.reset_index(drop=True, inplace=True)\n",
    "clean_df.replace({'INATTENTIONIND' : {'Y' : int(1), np.nan : int(0)},\n",
    "                 'SPEEDING' : {'Y' : int(1), np.nan : int(0)},\n",
    "                 'UNDERINFL' : {'Y' : int(1), '1' : int(1),\n",
    "                                'N' : int(0), '0' : int(0),\n",
    "                                np.nan : int(0)}}, inplace=True)\n",
    "clean_df['WEATHER'].replace(np.nan, 'Unknown', inplace=True)\n",
    "clean_df['ROADCOND'].replace(np.nan, 'Unknown', inplace=True)\n",
    "clean_df['LIGHTCOND'].replace(np.nan, 'Unknown', inplace=True)\n",
    "\n",
    "clean_df.shape"
   ]
  },
  {
   "cell_type": "markdown",
   "metadata": {},
   "source": [
    "## 3. Exploratory Data Analysis\n",
    "Explore the combination of road conditions that lead to accident. First, select the relevant data, and then check the unique data from each selected features. There are Unknown and Other values in the data that cannot be interpreted. Therefore, data with value Unknown or Other will be dropped from the dataframe."
   ]
  },
  {
   "cell_type": "code",
   "execution_count": 10,
   "metadata": {},
   "outputs": [
    {
     "name": "stdout",
     "output_type": "stream",
     "text": [
      "Clear                       108959\n",
      "Raining                      32015\n",
      "Overcast                     27136\n",
      "Snowing                        894\n",
      "Fog/Smog/Smoke                 553\n",
      "Sleet/Hail/Freezing Rain       112\n",
      "Blowing Sand/Dirt               50\n",
      "Severe Crosswind                24\n",
      "Partly Cloudy                    5\n",
      "Name: WEATHER, dtype: int64 \n",
      "\n",
      "Dry               121017\n",
      "Wet                45569\n",
      "Ice                 1086\n",
      "Snow/Slush           889\n",
      "Standing Water        95\n",
      "Sand/Mud/Dirt         56\n",
      "Oil                   49\n",
      "Name: ROADCOND, dtype: int64 \n",
      "\n",
      "Daylight                    110315\n",
      "Dark - Street Lights On      45621\n",
      "Dusk                          5532\n",
      "Dawn                          2337\n",
      "Dark - No Street Lights       1333\n",
      "Dark - Street Lights Off      1071\n",
      "Dark - Unknown Lighting          8\n",
      "Name: LIGHTCOND, dtype: int64 \n",
      "\n",
      "(166217, 4)\n"
     ]
    }
   ],
   "source": [
    "EDA_df = clean_df[['WEATHER', 'ROADCOND', 'LIGHTCOND', 'SEVERITYCODE']]\n",
    "# drop Unknown and Other data in WEATHER feature\n",
    "EDA_df = EDA_df[EDA_df.WEATHER != 'Unknown']\n",
    "EDA_df = EDA_df[EDA_df.WEATHER != 'Other']\n",
    "print(EDA_df['WEATHER'].value_counts(), \"\\n\")\n",
    "# drop Unknown and Other data in ROADCOND feature\n",
    "EDA_df = EDA_df[EDA_df.ROADCOND != 'Unknown']\n",
    "EDA_df = EDA_df[EDA_df.ROADCOND != 'Other']\n",
    "print(EDA_df['ROADCOND'].value_counts(), \"\\n\")\n",
    "# drop Unknown and Other data in LIGHTCOND feature\n",
    "EDA_df = EDA_df[EDA_df.LIGHTCOND != 'Unknown']\n",
    "EDA_df = EDA_df[EDA_df.LIGHTCOND != 'Other']\n",
    "print(EDA_df['LIGHTCOND'].value_counts(), \"\\n\")\n",
    "print(EDA_df.shape)"
   ]
  },
  {
   "cell_type": "markdown",
   "metadata": {},
   "source": [
    "### 3.1. Accidents that Lead to Property Damage\n",
    "Use group by and value count method to calculate the number of accident in each combination of conditions. Top ten conditions that lead to accident with property damage is selected by using sort_values and head method. Finally, joining the WEATHER, ROADCOND, and LIGHTCOND features into one feature called CONDITIONS."
   ]
  },
  {
   "cell_type": "code",
   "execution_count": 11,
   "metadata": {},
   "outputs": [],
   "source": [
    "EDA_df = EDA_df.groupby(['WEATHER', 'ROADCOND', 'LIGHTCOND'])['SEVERITYCODE'].value_counts().to_frame()\n",
    "EDA_df = EDA_df.rename(columns={'SEVERITYCODE':'ACC_COUNTS'})\n",
    "EDA_df = EDA_df.reset_index()"
   ]
  },
  {
   "cell_type": "code",
   "execution_count": 12,
   "metadata": {},
   "outputs": [
    {
     "data": {
      "text/html": [
       "<div>\n",
       "<style scoped>\n",
       "    .dataframe tbody tr th:only-of-type {\n",
       "        vertical-align: middle;\n",
       "    }\n",
       "\n",
       "    .dataframe tbody tr th {\n",
       "        vertical-align: top;\n",
       "    }\n",
       "\n",
       "    .dataframe thead th {\n",
       "        text-align: right;\n",
       "    }\n",
       "</style>\n",
       "<table border=\"1\" class=\"dataframe\">\n",
       "  <thead>\n",
       "    <tr style=\"text-align: right;\">\n",
       "      <th></th>\n",
       "      <th>CONDITIONS</th>\n",
       "      <th>ACC_COUNTS</th>\n",
       "    </tr>\n",
       "  </thead>\n",
       "  <tbody>\n",
       "    <tr>\n",
       "      <th>0</th>\n",
       "      <td>Clear, Dry, Daylight</td>\n",
       "      <td>48828</td>\n",
       "    </tr>\n",
       "    <tr>\n",
       "      <th>1</th>\n",
       "      <td>Clear, Dry, Dark - Street Lights On</td>\n",
       "      <td>16441</td>\n",
       "    </tr>\n",
       "    <tr>\n",
       "      <th>2</th>\n",
       "      <td>Raining, Wet, Daylight</td>\n",
       "      <td>10400</td>\n",
       "    </tr>\n",
       "    <tr>\n",
       "      <th>3</th>\n",
       "      <td>Raining, Wet, Dark - Street Lights On</td>\n",
       "      <td>8182</td>\n",
       "    </tr>\n",
       "    <tr>\n",
       "      <th>4</th>\n",
       "      <td>Overcast, Dry, Daylight</td>\n",
       "      <td>7283</td>\n",
       "    </tr>\n",
       "    <tr>\n",
       "      <th>5</th>\n",
       "      <td>Overcast, Wet, Daylight</td>\n",
       "      <td>3906</td>\n",
       "    </tr>\n",
       "    <tr>\n",
       "      <th>6</th>\n",
       "      <td>Overcast, Dry, Dark - Street Lights On</td>\n",
       "      <td>2513</td>\n",
       "    </tr>\n",
       "    <tr>\n",
       "      <th>7</th>\n",
       "      <td>Overcast, Wet, Dark - Street Lights On</td>\n",
       "      <td>2475</td>\n",
       "    </tr>\n",
       "    <tr>\n",
       "      <th>8</th>\n",
       "      <td>Clear, Dry, Dusk</td>\n",
       "      <td>2051</td>\n",
       "    </tr>\n",
       "    <tr>\n",
       "      <th>9</th>\n",
       "      <td>Clear, Wet, Daylight</td>\n",
       "      <td>1299</td>\n",
       "    </tr>\n",
       "  </tbody>\n",
       "</table>\n",
       "</div>"
      ],
      "text/plain": [
       "                               CONDITIONS  ACC_COUNTS\n",
       "0                    Clear, Dry, Daylight       48828\n",
       "1     Clear, Dry, Dark - Street Lights On       16441\n",
       "2                  Raining, Wet, Daylight       10400\n",
       "3   Raining, Wet, Dark - Street Lights On        8182\n",
       "4                 Overcast, Dry, Daylight        7283\n",
       "5                 Overcast, Wet, Daylight        3906\n",
       "6  Overcast, Dry, Dark - Street Lights On        2513\n",
       "7  Overcast, Wet, Dark - Street Lights On        2475\n",
       "8                        Clear, Dry, Dusk        2051\n",
       "9                    Clear, Wet, Daylight        1299"
      ]
     },
     "execution_count": 12,
     "metadata": {},
     "output_type": "execute_result"
    }
   ],
   "source": [
    "EDA_df1 = EDA_df[EDA_df.SEVERITYCODE == 1]\n",
    "EDA_df1 = EDA_df1.sort_values(by=['ACC_COUNTS'], ascending=False)\n",
    "EDA_df1 = EDA_df1.head(10).reset_index(drop=True)\n",
    "EDA_df1['CONDITIONS'] = EDA_df1[['WEATHER','ROADCOND','LIGHTCOND']].agg(', '.join, axis=1)\n",
    "cond = EDA_df1['CONDITIONS']\n",
    "EDA_df1.drop(labels=['CONDITIONS', 'WEATHER', 'ROADCOND', 'LIGHTCOND', 'SEVERITYCODE'], axis=1, inplace=True)\n",
    "EDA_df1.insert(0, 'CONDITIONS', cond)\n",
    "EDA_df1"
   ]
  },
  {
   "cell_type": "markdown",
   "metadata": {},
   "source": [
    "Plot the data in to a bar plot."
   ]
  },
  {
   "cell_type": "code",
   "execution_count": 13,
   "metadata": {
    "scrolled": false
   },
   "outputs": [
    {
     "data": {
      "image/png": "[encoded data removed]",
      "text/plain": [
       "<Figure size 1440x576 with 1 Axes>"
      ]
     },
     "metadata": {
      "needs_background": "light"
     },
     "output_type": "display_data"
    }
   ],
   "source": [
    "%matplotlib inline \n",
    "\n",
    "import matplotlib as mpl\n",
    "import matplotlib.pyplot as plt\n",
    "\n",
    "labels = EDA_df1['CONDITIONS'].to_list()\n",
    "\n",
    "ax = EDA_df1.plot(kind='bar', stacked=False, width=0.8, figsize=(20,8), fontsize=14)\n",
    "\n",
    "ax.set_title(\"Condition During Accident that Lead to Property Damage in Seattle City\", size=16)\n",
    "ax.set_xticks(np.arange(0, 10, 1))\n",
    "ax.set_xticklabels(labels)\n",
    "\n",
    "for p in ax.patches:\n",
    "    height = p.get_height()\n",
    "    ax.annotate(\"{:,}\".format(height), xy=(p.get_x() + p.get_width() / 2, height),\n",
    "                xytext=(3, 3), textcoords=\"offset points\", \n",
    "                ha='center', va='bottom', fontsize=14)\n",
    "\n",
    "ax.legend([])\n",
    "ax.set_ylabel(\"Number of Accidents\", size=14)\n",
    "ax.spines['top'].set_visible(False)\n",
    "ax.spines['right'].set_visible(False)\n",
    "ax.spines['left'].set_visible(False)\n",
    "ax.get_yaxis().set_ticks([])\n",
    "\n",
    "plt.show()"
   ]
  },
  {
   "cell_type": "markdown",
   "metadata": {},
   "source": [
    "### 3.2. Accident that Lead to Injury\n",
    "Use group by and value count method to calculate the number of accident in each combination of conditions. Top ten conditions that lead to accident with people injured is selected by using sort_values and head method. Finally, joining the WEATHER, ROADCOND, and LIGHTCOND features into one feature called CONDITIONS."
   ]
  },
  {
   "cell_type": "code",
   "execution_count": 14,
   "metadata": {},
   "outputs": [
    {
     "data": {
      "text/html": [
       "<div>\n",
       "<style scoped>\n",
       "    .dataframe tbody tr th:only-of-type {\n",
       "        vertical-align: middle;\n",
       "    }\n",
       "\n",
       "    .dataframe tbody tr th {\n",
       "        vertical-align: top;\n",
       "    }\n",
       "\n",
       "    .dataframe thead th {\n",
       "        text-align: right;\n",
       "    }\n",
       "</style>\n",
       "<table border=\"1\" class=\"dataframe\">\n",
       "  <thead>\n",
       "    <tr style=\"text-align: right;\">\n",
       "      <th></th>\n",
       "      <th>CONDITIONS</th>\n",
       "      <th>ACC_COUNTS</th>\n",
       "    </tr>\n",
       "  </thead>\n",
       "  <tbody>\n",
       "    <tr>\n",
       "      <th>0</th>\n",
       "      <td>Clear, Dry, Daylight</td>\n",
       "      <td>25127</td>\n",
       "    </tr>\n",
       "    <tr>\n",
       "      <th>1</th>\n",
       "      <td>Clear, Dry, Dark - Street Lights On</td>\n",
       "      <td>6961</td>\n",
       "    </tr>\n",
       "    <tr>\n",
       "      <th>2</th>\n",
       "      <td>Raining, Wet, Daylight</td>\n",
       "      <td>5564</td>\n",
       "    </tr>\n",
       "    <tr>\n",
       "      <th>3</th>\n",
       "      <td>Raining, Wet, Dark - Street Lights On</td>\n",
       "      <td>4134</td>\n",
       "    </tr>\n",
       "    <tr>\n",
       "      <th>4</th>\n",
       "      <td>Overcast, Dry, Daylight</td>\n",
       "      <td>3612</td>\n",
       "    </tr>\n",
       "    <tr>\n",
       "      <th>5</th>\n",
       "      <td>Overcast, Wet, Daylight</td>\n",
       "      <td>1995</td>\n",
       "    </tr>\n",
       "    <tr>\n",
       "      <th>6</th>\n",
       "      <td>Overcast, Dry, Dark - Street Lights On</td>\n",
       "      <td>1080</td>\n",
       "    </tr>\n",
       "    <tr>\n",
       "      <th>7</th>\n",
       "      <td>Overcast, Wet, Dark - Street Lights On</td>\n",
       "      <td>1068</td>\n",
       "    </tr>\n",
       "    <tr>\n",
       "      <th>8</th>\n",
       "      <td>Clear, Dry, Dusk</td>\n",
       "      <td>1009</td>\n",
       "    </tr>\n",
       "    <tr>\n",
       "      <th>9</th>\n",
       "      <td>Clear, Wet, Daylight</td>\n",
       "      <td>712</td>\n",
       "    </tr>\n",
       "  </tbody>\n",
       "</table>\n",
       "</div>"
      ],
      "text/plain": [
       "                               CONDITIONS  ACC_COUNTS\n",
       "0                    Clear, Dry, Daylight       25127\n",
       "1     Clear, Dry, Dark - Street Lights On        6961\n",
       "2                  Raining, Wet, Daylight        5564\n",
       "3   Raining, Wet, Dark - Street Lights On        4134\n",
       "4                 Overcast, Dry, Daylight        3612\n",
       "5                 Overcast, Wet, Daylight        1995\n",
       "6  Overcast, Dry, Dark - Street Lights On        1080\n",
       "7  Overcast, Wet, Dark - Street Lights On        1068\n",
       "8                        Clear, Dry, Dusk        1009\n",
       "9                    Clear, Wet, Daylight         712"
      ]
     },
     "execution_count": 14,
     "metadata": {},
     "output_type": "execute_result"
    }
   ],
   "source": [
    "EDA_df2 = EDA_df[EDA_df.SEVERITYCODE == 2]\n",
    "EDA_df2 = EDA_df2.sort_values(by=['ACC_COUNTS'], ascending=False)\n",
    "EDA_df2 = EDA_df2.head(10).reset_index(drop=True)\n",
    "EDA_df2['CONDITIONS'] = EDA_df2[['WEATHER','ROADCOND','LIGHTCOND']].agg(', '.join, axis=1)\n",
    "cond = EDA_df2['CONDITIONS']\n",
    "EDA_df2.drop(labels=['CONDITIONS', 'WEATHER', 'ROADCOND', 'LIGHTCOND', 'SEVERITYCODE'], axis=1, inplace=True)\n",
    "EDA_df2.insert(0, 'CONDITIONS', cond)\n",
    "EDA_df2"
   ]
  },
  {
   "cell_type": "markdown",
   "metadata": {},
   "source": [
    "Plot the data in to a bar plot."
   ]
  },
  {
   "cell_type": "code",
   "execution_count": 15,
   "metadata": {
    "scrolled": false
   },
   "outputs": [
    {
     "data": {
      "image/png": "[encoded data removed]",
      "text/plain": [
       "<Figure size 1440x576 with 1 Axes>"
      ]
     },
     "metadata": {
      "needs_background": "light"
     },
     "output_type": "display_data"
    }
   ],
   "source": [
    "labels = EDA_df2['CONDITIONS'].to_list()\n",
    "\n",
    "ax = EDA_df2.plot(kind='bar', stacked=False, width=0.8, figsize=(20,8), fontsize=14)\n",
    "\n",
    "ax.set_title(\"Condition During Accident that Lead to Injury in Seattle City\", size=16)\n",
    "ax.set_xticks(np.arange(0, 10, 1))\n",
    "ax.set_xticklabels(labels)\n",
    "\n",
    "for p in ax.patches:\n",
    "    height = p.get_height()\n",
    "    ax.annotate(\"{:,}\".format(height), xy=(p.get_x() + p.get_width() / 2, height),\n",
    "                xytext=(3, 3), textcoords=\"offset points\", \n",
    "                ha='center', va='bottom', fontsize=14)\n",
    "\n",
    "ax.legend([])\n",
    "ax.set_ylabel(\"Number of Accidents\", size=14)\n",
    "ax.spines['top'].set_visible(False)\n",
    "ax.spines['right'].set_visible(False)\n",
    "ax.spines['left'].set_visible(False)\n",
    "ax.get_yaxis().set_ticks([])\n",
    "\n",
    "plt.show()"
   ]
  },
  {
   "cell_type": "markdown",
   "metadata": {},
   "source": [
    "## 4. Predictive Classification Model\n",
    "### 4.1. Converting Categorical Data into Numerical Values\n",
    "Checking the unique values in every categorical data in the dataframe."
   ]
  },
  {
   "cell_type": "code",
   "execution_count": 16,
   "metadata": {
    "scrolled": true
   },
   "outputs": [
    {
     "name": "stdout",
     "output_type": "stream",
     "text": [
      "(189339, 12)\n",
      "Unique values in feature 'ADDTYPE': ['Intersection' 'Block']\n",
      "Unique values in feature 'WEATHER': ['Overcast' 'Raining' 'Clear' 'Unknown' 'Other' 'Snowing' 'Fog/Smog/Smoke'\n",
      " 'Sleet/Hail/Freezing Rain' 'Blowing Sand/Dirt' 'Severe Crosswind'\n",
      " 'Partly Cloudy']\n",
      "Unique values in feature 'ROADCOND': ['Wet' 'Dry' 'Unknown' 'Snow/Slush' 'Ice' 'Other' 'Sand/Mud/Dirt'\n",
      " 'Standing Water' 'Oil']\n",
      "Unique values in feature 'LIGHTCOND': ['Daylight' 'Dark - Street Lights On' 'Dark - No Street Lights' 'Unknown'\n",
      " 'Dusk' 'Dawn' 'Dark - Street Lights Off' 'Other'\n",
      " 'Dark - Unknown Lighting']\n"
     ]
    }
   ],
   "source": [
    "print(clean_df.shape)\n",
    "print(\"Unique values in feature 'ADDTYPE':\", clean_df['ADDRTYPE'].unique())\n",
    "print(\"Unique values in feature 'WEATHER':\", clean_df['WEATHER'].unique())\n",
    "print(\"Unique values in feature 'ROADCOND':\", clean_df['ROADCOND'].unique())\n",
    "print(\"Unique values in feature 'LIGHTCOND':\", clean_df['LIGHTCOND'].unique())"
   ]
  },
  {
   "cell_type": "markdown",
   "metadata": {},
   "source": [
    "Merge value 'Other' into value 'Unknown' to simplify the data"
   ]
  },
  {
   "cell_type": "code",
   "execution_count": 17,
   "metadata": {},
   "outputs": [
    {
     "name": "stdout",
     "output_type": "stream",
     "text": [
      "Unique values in feature 'ADDTYPE': ['Intersection' 'Block']\n",
      "Unique values in feature 'WEATHER': ['Overcast' 'Raining' 'Clear' 'Unknown' 'Snowing' 'Fog/Smog/Smoke'\n",
      " 'Sleet/Hail/Freezing Rain' 'Blowing Sand/Dirt' 'Severe Crosswind'\n",
      " 'Partly Cloudy']\n",
      "Unique values in feature 'ROADCOND': ['Wet' 'Dry' 'Unknown' 'Snow/Slush' 'Ice' 'Sand/Mud/Dirt' 'Standing Water'\n",
      " 'Oil']\n",
      "Unique values in feature 'LIGHTCOND': ['Daylight' 'Dark - Street Lights On' 'Dark - No Street Lights' 'Unknown'\n",
      " 'Dusk' 'Dawn' 'Dark - Street Lights Off' 'Dark - Unknown Lighting']\n"
     ]
    }
   ],
   "source": [
    "clean_df.replace({'WEATHER' : {'Other' : 'Unknown'},\n",
    "                 'ROADCOND' : {'Other' : 'Unknown'},\n",
    "                 'LIGHTCOND' : {'Other' : 'Unknown'}}, inplace=True)\n",
    "print(\"Unique values in feature 'ADDTYPE':\", clean_df['ADDRTYPE'].unique())\n",
    "print(\"Unique values in feature 'WEATHER':\", clean_df['WEATHER'].unique())\n",
    "print(\"Unique values in feature 'ROADCOND':\", clean_df['ROADCOND'].unique())\n",
    "print(\"Unique values in feature 'LIGHTCOND':\", clean_df['LIGHTCOND'].unique())"
   ]
  },
  {
   "cell_type": "markdown",
   "metadata": {},
   "source": [
    "Preparing data for encoding and transformation"
   ]
  },
  {
   "cell_type": "code",
   "execution_count": 18,
   "metadata": {},
   "outputs": [
    {
     "name": "stdout",
     "output_type": "stream",
     "text": [
      "    LONGITUDE      ADDRTYPE  PERSONCOUNT  VEHCOUNT  INATTENTIONIND  UNDERINFL  \\\n",
      "0 -122.323148  Intersection            2         2               0          0   \n",
      "1 -122.347294         Block            2         2               0          0   \n",
      "2 -122.334540         Block            4         3               0          0   \n",
      "3 -122.334803         Block            3         3               0          0   \n",
      "4 -122.306426  Intersection            2         2               0          0   \n",
      "\n",
      "    WEATHER ROADCOND                LIGHTCOND  SPEEDING  \n",
      "0  Overcast      Wet                 Daylight         0  \n",
      "1   Raining      Wet  Dark - Street Lights On         0  \n",
      "2  Overcast      Dry                 Daylight         0  \n",
      "3     Clear      Dry                 Daylight         0  \n",
      "4   Raining      Wet                 Daylight         0  \n",
      "(189339, 10)\n",
      "    LATITUDE   LONGITUDE  SEVERITYCODE\n",
      "0  47.703140 -122.323148             2\n",
      "1  47.647172 -122.347294             1\n",
      "2  47.607871 -122.334540             1\n",
      "3  47.604803 -122.334803             1\n",
      "4  47.545739 -122.306426             2\n",
      "(189339, 3)\n"
     ]
    }
   ],
   "source": [
    "X = clean_df.iloc[:, 1:-1]\n",
    "print(X.head())\n",
    "print(X.shape)\n",
    "y = clean_df[['LATITUDE', 'LONGITUDE', 'SEVERITYCODE']]\n",
    "print(y.head())\n",
    "print(y.shape)"
   ]
  },
  {
   "cell_type": "markdown",
   "metadata": {},
   "source": [
    "Encode the data using Ordinal Encoder"
   ]
  },
  {
   "cell_type": "code",
   "execution_count": 19,
   "metadata": {},
   "outputs": [
    {
     "name": "stdout",
     "output_type": "stream",
     "text": [
      "[[1.3233e+04 1.0000e+00 2.0000e+00 2.0000e+00 0.0000e+00 0.0000e+00\n",
      "  3.0000e+00 7.0000e+00 5.0000e+00 0.0000e+00]\n",
      " [8.2340e+03 0.0000e+00 2.0000e+00 2.0000e+00 0.0000e+00 0.0000e+00\n",
      "  5.0000e+00 7.0000e+00 2.0000e+00 0.0000e+00]\n",
      " [1.0639e+04 0.0000e+00 4.0000e+00 3.0000e+00 0.0000e+00 0.0000e+00\n",
      "  3.0000e+00 0.0000e+00 5.0000e+00 0.0000e+00]\n",
      " [1.0597e+04 0.0000e+00 3.0000e+00 3.0000e+00 0.0000e+00 0.0000e+00\n",
      "  1.0000e+00 0.0000e+00 5.0000e+00 0.0000e+00]\n",
      " [1.7121e+04 1.0000e+00 2.0000e+00 2.0000e+00 0.0000e+00 0.0000e+00\n",
      "  5.0000e+00 7.0000e+00 5.0000e+00 0.0000e+00]]\n",
      "(189339, 10)\n"
     ]
    }
   ],
   "source": [
    "from sklearn.preprocessing import OrdinalEncoder\n",
    "ordinal_encoder = OrdinalEncoder()\n",
    "X = ordinal_encoder.fit_transform(X)\n",
    "print(X[0:5])\n",
    "print(X.shape)"
   ]
  },
  {
   "cell_type": "markdown",
   "metadata": {},
   "source": [
    "### 4.2. Data Spliting, and Normalization\n",
    "Split data from Ordinal Encoder transformation into training, and testing data. "
   ]
  },
  {
   "cell_type": "code",
   "execution_count": 20,
   "metadata": {
    "scrolled": true
   },
   "outputs": [
    {
     "name": "stdout",
     "output_type": "stream",
     "text": [
      "Train set: (132537, 10) (132537, 3)\n",
      "Test set: (56802, 10) (56802, 3)\n"
     ]
    }
   ],
   "source": [
    "from sklearn.model_selection import train_test_split\n",
    "X_train, X_test, y_train_loc, y_test_loc = train_test_split(X, y, test_size=0.3, random_state=9)\n",
    "print ('Train set:', X_train.shape,  y_train_loc.shape)\n",
    "print ('Test set:', X_test.shape,  y_test_loc.shape)"
   ]
  },
  {
   "cell_type": "markdown",
   "metadata": {},
   "source": [
    "Separating 'LATITUDE', and 'LONGITUDE' from y_train and y_test"
   ]
  },
  {
   "cell_type": "code",
   "execution_count": 21,
   "metadata": {},
   "outputs": [
    {
     "name": "stdout",
     "output_type": "stream",
     "text": [
      "Train set: (132537, 10) (132537,)\n",
      "Test set: (56802, 10) (56802,)\n"
     ]
    }
   ],
   "source": [
    "y_train = y_train_loc['SEVERITYCODE'].values\n",
    "y_test = y_test_loc['SEVERITYCODE'].values\n",
    "print ('Train set:', X_train.shape,  y_train.shape)\n",
    "print ('Test set:', X_test.shape,  y_test.shape)"
   ]
  },
  {
   "cell_type": "markdown",
   "metadata": {},
   "source": [
    "Normalize data from Ordinal Encoder transformation"
   ]
  },
  {
   "cell_type": "code",
   "execution_count": 22,
   "metadata": {},
   "outputs": [
    {
     "name": "stdout",
     "output_type": "stream",
     "text": [
      "(132537, 10)\n",
      "[[ 0.75804542 -0.72076453 -0.33828455  0.12392511  2.35136476 -0.22111635\n",
      "  -0.70087824 -0.72969243  0.38000415 -0.22021387]\n",
      " [-0.56376113 -0.72076453  1.90950799  3.31225137 -0.42528493 -0.22111635\n",
      "  -0.70087824 -0.72969243  0.38000415 -0.22021387]\n",
      " [ 1.26273206 -0.72076453 -1.08754873 -1.47023801 -0.42528493 -0.22111635\n",
      "   0.83288382  1.46585963 -1.48532876 -0.22021387]]\n",
      "(56802, 10)\n",
      "[[-0.51699646  1.38660207  2.72645453  0.11240093 -0.43035124  4.47374881\n",
      "  -0.70333127 -0.73294471 -1.49366367 -0.21857585]\n",
      " [ 1.362191   -0.72118744  0.41971903  1.68457466 -0.43035124 -0.22352618\n",
      "   0.06224099 -0.73294471  0.37516789  4.57507094]\n",
      " [ 0.16335423 -0.72118744 -0.3491928   0.11240093  2.32368334 -0.22352618\n",
      "  -0.70333127 -0.73294471  0.37516789 -0.21857585]]\n"
     ]
    }
   ],
   "source": [
    "from sklearn import preprocessing\n",
    "X_train = preprocessing.StandardScaler().fit(X_train).transform(X_train)\n",
    "X_test = preprocessing.StandardScaler().fit(X_test).transform(X_test)\n",
    "print(X_train.shape)\n",
    "print(X_train[0:3])\n",
    "print(X_test.shape)\n",
    "print(X_test[0:3])"
   ]
  },
  {
   "cell_type": "markdown",
   "metadata": {},
   "source": [
    "### 4.3. Logistic Regression Classification\n",
    "#### 4.3.1. Logistic Regression Modelling\n",
    "Logistic Regression Classification is used to predict accident severity, and its probability. Evaluation metrics that are calculated is Jaccard similarity index, f1-score, and logaritmic loss."
   ]
  },
  {
   "cell_type": "code",
   "execution_count": 23,
   "metadata": {},
   "outputs": [
    {
     "name": "stdout",
     "output_type": "stream",
     "text": [
      "Jaccard similarity index = 0.7151\n",
      "f1-score = 0.6588\n",
      "Logaritmic Loss = 0.5692\n"
     ]
    }
   ],
   "source": [
    "from sklearn.linear_model import LogisticRegression\n",
    "from sklearn.metrics import jaccard_similarity_score\n",
    "from sklearn.metrics import f1_score\n",
    "from sklearn.metrics import log_loss\n",
    "\n",
    "LR_Class = LogisticRegression(C=0.01, solver='lbfgs').fit(X_train,y_train)\n",
    "yhat_LR = LR_Class.predict(X_test)\n",
    "yhat_LR_proba = LR_Class.predict_proba(X_test)\n",
    "\n",
    "LR_accu = jaccard_similarity_score(y_test, yhat_LR)\n",
    "LR_f1 = f1_score(y_test, yhat_LR, average='weighted')\n",
    "LR_logloss = log_loss(y_test, yhat_LR_proba)\n",
    "\n",
    "print(\"Jaccard similarity index = %.4f\" % LR_accu)\n",
    "print(\"f1-score = %.4f\" % LR_f1)\n",
    "print(\"Logaritmic Loss = %.4f\" % LR_logloss)"
   ]
  },
  {
   "cell_type": "markdown",
   "metadata": {},
   "source": [
    "#### 4.3.2. Confusion Matrix\n",
    "Confusion matrix is also calculated to check how many data are the model predicted correctly and incorrectly."
   ]
  },
  {
   "cell_type": "code",
   "execution_count": 24,
   "metadata": {},
   "outputs": [],
   "source": [
    "from sklearn.metrics import classification_report, confusion_matrix\n",
    "import itertools\n",
    "import matplotlib.pyplot as plt\n",
    "%matplotlib inline\n",
    "def plot_confusion_matrix(cm, classes,\n",
    "                          normalize=False,\n",
    "                          title='Confusion matrix',\n",
    "                          cmap=plt.cm.Blues):\n",
    "    \"\"\"\n",
    "    This function prints and plots the confusion matrix.\n",
    "    Normalization can be applied by setting `normalize=True`.\n",
    "    \"\"\"\n",
    "    if normalize:\n",
    "        cm = cm.astype('float') / cm.sum(axis=1)[:, np.newaxis]\n",
    "        print(\"Normalized confusion matrix\")\n",
    "    else:\n",
    "        print('Confusion matrix, without normalization')\n",
    "\n",
    "    print(cm)\n",
    "\n",
    "    plt.imshow(cm, interpolation='nearest', cmap=cmap)\n",
    "    plt.title(title)\n",
    "    plt.colorbar()\n",
    "    tick_marks = np.arange(len(classes))\n",
    "    plt.xticks(tick_marks, classes, rotation=45)\n",
    "    plt.yticks(tick_marks, classes)\n",
    "\n",
    "    fmt = '.2f' if normalize else 'd'\n",
    "    thresh = cm.max() / 2.\n",
    "    for i, j in itertools.product(range(cm.shape[0]), range(cm.shape[1])):\n",
    "        plt.text(j, i, format(cm[i, j], fmt),\n",
    "                 horizontalalignment=\"center\",\n",
    "                 color=\"white\" if cm[i, j] > thresh else \"black\")\n",
    "\n",
    "    plt.tight_layout()\n",
    "    plt.ylabel('True label')\n",
    "    plt.xlabel('Predicted label')"
   ]
  },
  {
   "cell_type": "code",
   "execution_count": 25,
   "metadata": {
    "scrolled": false
   },
   "outputs": [
    {
     "name": "stdout",
     "output_type": "stream",
     "text": [
      "Confusion matrix, without normalization\n",
      "[[ 3180 14014]\n",
      " [ 2169 37439]]\n"
     ]
    },
    {
     "data": {
      "image/png": "[encoded data removed]",
      "text/plain": [
       "<Figure size 432x288 with 2 Axes>"
      ]
     },
     "metadata": {
      "needs_background": "light"
     },
     "output_type": "display_data"
    }
   ],
   "source": [
    "# Compute confusion matrix\n",
    "cnf_matrix = confusion_matrix(y_test, yhat_LR, labels=[2,1])\n",
    "np.set_printoptions(precision=3)\n",
    "\n",
    "# Plot non-normalized confusion matrix\n",
    "plt.figure()\n",
    "plot_confusion_matrix(cnf_matrix, classes=['injury=2','damage=1'],normalize= False,  title='Confusion matrix')"
   ]
  },
  {
   "cell_type": "markdown",
   "metadata": {},
   "source": [
    "Classification report is calculated to check the precision, recall, and f1-score of the model"
   ]
  },
  {
   "cell_type": "code",
   "execution_count": 26,
   "metadata": {
    "scrolled": false
   },
   "outputs": [
    {
     "name": "stdout",
     "output_type": "stream",
     "text": [
      "              precision    recall  f1-score   support\n",
      "\n",
      "           1       0.73      0.95      0.82     39608\n",
      "           2       0.59      0.18      0.28     17194\n",
      "\n",
      "   micro avg       0.72      0.72      0.72     56802\n",
      "   macro avg       0.66      0.57      0.55     56802\n",
      "weighted avg       0.69      0.72      0.66     56802\n",
      "\n"
     ]
    }
   ],
   "source": [
    "print (classification_report(y_test, yhat_LR))"
   ]
  },
  {
   "cell_type": "markdown",
   "metadata": {},
   "source": [
    "## 5. Map Plotting\n",
    "Usage example of this model is to predict the severity of an accident, and its probability, that could occurs in a particular road type. This prediction value could be sent to the driver in real-time, or it could be a part of a digital city map. This map plotting will try to use 100 y_test data as an example to plot the accident severity probability prediction in a folium map.\n",
    "<br><br>\n",
    "The first step is selecting 100 data from predicted values yhat_LR, and concatenate it with the predicted value probability yhat_LR_proba."
   ]
  },
  {
   "cell_type": "code",
   "execution_count": 27,
   "metadata": {},
   "outputs": [
    {
     "name": "stdout",
     "output_type": "stream",
     "text": [
      "(100, 2)\n"
     ]
    },
    {
     "data": {
      "text/html": [
       "<div>\n",
       "<style scoped>\n",
       "    .dataframe tbody tr th:only-of-type {\n",
       "        vertical-align: middle;\n",
       "    }\n",
       "\n",
       "    .dataframe tbody tr th {\n",
       "        vertical-align: top;\n",
       "    }\n",
       "\n",
       "    .dataframe thead th {\n",
       "        text-align: right;\n",
       "    }\n",
       "</style>\n",
       "<table border=\"1\" class=\"dataframe\">\n",
       "  <thead>\n",
       "    <tr style=\"text-align: right;\">\n",
       "      <th></th>\n",
       "      <th>PROP_DAMAGE</th>\n",
       "      <th>INJURY</th>\n",
       "    </tr>\n",
       "  </thead>\n",
       "  <tbody>\n",
       "    <tr>\n",
       "      <th>0</th>\n",
       "      <td>0.241117</td>\n",
       "      <td>0.758883</td>\n",
       "    </tr>\n",
       "    <tr>\n",
       "      <th>1</th>\n",
       "      <td>0.790998</td>\n",
       "      <td>0.209002</td>\n",
       "    </tr>\n",
       "    <tr>\n",
       "      <th>2</th>\n",
       "      <td>0.726525</td>\n",
       "      <td>0.273475</td>\n",
       "    </tr>\n",
       "    <tr>\n",
       "      <th>3</th>\n",
       "      <td>0.831221</td>\n",
       "      <td>0.168779</td>\n",
       "    </tr>\n",
       "    <tr>\n",
       "      <th>4</th>\n",
       "      <td>0.903107</td>\n",
       "      <td>0.096893</td>\n",
       "    </tr>\n",
       "  </tbody>\n",
       "</table>\n",
       "</div>"
      ],
      "text/plain": [
       "   PROP_DAMAGE    INJURY\n",
       "0     0.241117  0.758883\n",
       "1     0.790998  0.209002\n",
       "2     0.726525  0.273475\n",
       "3     0.831221  0.168779\n",
       "4     0.903107  0.096893"
      ]
     },
     "execution_count": 27,
     "metadata": {},
     "output_type": "execute_result"
    }
   ],
   "source": [
    "yhat_prob_df = pd.DataFrame(yhat_LR_proba)\n",
    "yhat_prob_df = yhat_prob_df.head(100)\n",
    "yhat_prob_df.rename(columns={0:'PROP_DAMAGE', 1:'INJURY'}, inplace=True)\n",
    "print(yhat_prob_df.shape)\n",
    "yhat_prob_df.head()"
   ]
  },
  {
   "cell_type": "code",
   "execution_count": 28,
   "metadata": {},
   "outputs": [
    {
     "name": "stdout",
     "output_type": "stream",
     "text": [
      "(100, 12)\n"
     ]
    },
    {
     "data": {
      "text/html": [
       "<div>\n",
       "<style scoped>\n",
       "    .dataframe tbody tr th:only-of-type {\n",
       "        vertical-align: middle;\n",
       "    }\n",
       "\n",
       "    .dataframe tbody tr th {\n",
       "        vertical-align: top;\n",
       "    }\n",
       "\n",
       "    .dataframe thead th {\n",
       "        text-align: right;\n",
       "    }\n",
       "</style>\n",
       "<table border=\"1\" class=\"dataframe\">\n",
       "  <thead>\n",
       "    <tr style=\"text-align: right;\">\n",
       "      <th></th>\n",
       "      <th>LATITUDE</th>\n",
       "      <th>LONGITUDE</th>\n",
       "      <th>ADDRTYPE</th>\n",
       "      <th>PERSONCOUNT</th>\n",
       "      <th>VEHCOUNT</th>\n",
       "      <th>INATTENTIONIND</th>\n",
       "      <th>UNDERINFL</th>\n",
       "      <th>WEATHER</th>\n",
       "      <th>ROADCOND</th>\n",
       "      <th>LIGHTCOND</th>\n",
       "      <th>SPEEDING</th>\n",
       "      <th>SEVERITYCODE</th>\n",
       "    </tr>\n",
       "  </thead>\n",
       "  <tbody>\n",
       "    <tr>\n",
       "      <th>114279</th>\n",
       "      <td>47.617528</td>\n",
       "      <td>-122.343624</td>\n",
       "      <td>Intersection</td>\n",
       "      <td>6</td>\n",
       "      <td>2</td>\n",
       "      <td>0</td>\n",
       "      <td>1</td>\n",
       "      <td>Clear</td>\n",
       "      <td>Dry</td>\n",
       "      <td>Dark - Street Lights On</td>\n",
       "      <td>0</td>\n",
       "      <td>2</td>\n",
       "    </tr>\n",
       "    <tr>\n",
       "      <th>13346</th>\n",
       "      <td>47.730122</td>\n",
       "      <td>-122.293045</td>\n",
       "      <td>Block</td>\n",
       "      <td>3</td>\n",
       "      <td>3</td>\n",
       "      <td>0</td>\n",
       "      <td>0</td>\n",
       "      <td>Overcast</td>\n",
       "      <td>Dry</td>\n",
       "      <td>Daylight</td>\n",
       "      <td>1</td>\n",
       "      <td>1</td>\n",
       "    </tr>\n",
       "    <tr>\n",
       "      <th>133572</th>\n",
       "      <td>47.664981</td>\n",
       "      <td>-122.324519</td>\n",
       "      <td>Block</td>\n",
       "      <td>2</td>\n",
       "      <td>2</td>\n",
       "      <td>1</td>\n",
       "      <td>0</td>\n",
       "      <td>Clear</td>\n",
       "      <td>Dry</td>\n",
       "      <td>Daylight</td>\n",
       "      <td>0</td>\n",
       "      <td>1</td>\n",
       "    </tr>\n",
       "    <tr>\n",
       "      <th>51913</th>\n",
       "      <td>47.724075</td>\n",
       "      <td>-122.328906</td>\n",
       "      <td>Block</td>\n",
       "      <td>2</td>\n",
       "      <td>2</td>\n",
       "      <td>0</td>\n",
       "      <td>0</td>\n",
       "      <td>Overcast</td>\n",
       "      <td>Dry</td>\n",
       "      <td>Dawn</td>\n",
       "      <td>0</td>\n",
       "      <td>1</td>\n",
       "    </tr>\n",
       "    <tr>\n",
       "      <th>135451</th>\n",
       "      <td>47.570674</td>\n",
       "      <td>-122.288272</td>\n",
       "      <td>Block</td>\n",
       "      <td>2</td>\n",
       "      <td>2</td>\n",
       "      <td>0</td>\n",
       "      <td>0</td>\n",
       "      <td>Unknown</td>\n",
       "      <td>Unknown</td>\n",
       "      <td>Unknown</td>\n",
       "      <td>0</td>\n",
       "      <td>1</td>\n",
       "    </tr>\n",
       "  </tbody>\n",
       "</table>\n",
       "</div>"
      ],
      "text/plain": [
       "         LATITUDE   LONGITUDE      ADDRTYPE  PERSONCOUNT  VEHCOUNT  \\\n",
       "114279  47.617528 -122.343624  Intersection            6         2   \n",
       "13346   47.730122 -122.293045         Block            3         3   \n",
       "133572  47.664981 -122.324519         Block            2         2   \n",
       "51913   47.724075 -122.328906         Block            2         2   \n",
       "135451  47.570674 -122.288272         Block            2         2   \n",
       "\n",
       "        INATTENTIONIND  UNDERINFL   WEATHER ROADCOND                LIGHTCOND  \\\n",
       "114279               0          1     Clear      Dry  Dark - Street Lights On   \n",
       "13346                0          0  Overcast      Dry                 Daylight   \n",
       "133572               1          0     Clear      Dry                 Daylight   \n",
       "51913                0          0  Overcast      Dry                     Dawn   \n",
       "135451               0          0   Unknown  Unknown                  Unknown   \n",
       "\n",
       "        SPEEDING  SEVERITYCODE  \n",
       "114279         0             2  \n",
       "13346          1             1  \n",
       "133572         0             1  \n",
       "51913          0             1  \n",
       "135451         0             1  "
      ]
     },
     "execution_count": 28,
     "metadata": {},
     "output_type": "execute_result"
    }
   ],
   "source": [
    "y_test_df = pd.DataFrame(y_test_loc)\n",
    "y_map = clean_df.iloc[y_test_df.index].copy().head(100)\n",
    "print(y_map.shape)\n",
    "y_map.head()"
   ]
  },
  {
   "cell_type": "code",
   "execution_count": 29,
   "metadata": {},
   "outputs": [
    {
     "name": "stdout",
     "output_type": "stream",
     "text": [
      "(100, 14)\n"
     ]
    },
    {
     "data": {
      "text/html": [
       "<div>\n",
       "<style scoped>\n",
       "    .dataframe tbody tr th:only-of-type {\n",
       "        vertical-align: middle;\n",
       "    }\n",
       "\n",
       "    .dataframe tbody tr th {\n",
       "        vertical-align: top;\n",
       "    }\n",
       "\n",
       "    .dataframe thead th {\n",
       "        text-align: right;\n",
       "    }\n",
       "</style>\n",
       "<table border=\"1\" class=\"dataframe\">\n",
       "  <thead>\n",
       "    <tr style=\"text-align: right;\">\n",
       "      <th></th>\n",
       "      <th>LATITUDE</th>\n",
       "      <th>LONGITUDE</th>\n",
       "      <th>ADDRTYPE</th>\n",
       "      <th>PERSONCOUNT</th>\n",
       "      <th>VEHCOUNT</th>\n",
       "      <th>INATTENTIONIND</th>\n",
       "      <th>UNDERINFL</th>\n",
       "      <th>WEATHER</th>\n",
       "      <th>ROADCOND</th>\n",
       "      <th>LIGHTCOND</th>\n",
       "      <th>SPEEDING</th>\n",
       "      <th>SEVERITYCODE</th>\n",
       "      <th>PROP_DAMAGE</th>\n",
       "      <th>INJURY</th>\n",
       "    </tr>\n",
       "  </thead>\n",
       "  <tbody>\n",
       "    <tr>\n",
       "      <th>114279</th>\n",
       "      <td>47.617528</td>\n",
       "      <td>-122.343624</td>\n",
       "      <td>Intersection</td>\n",
       "      <td>6</td>\n",
       "      <td>2</td>\n",
       "      <td>0</td>\n",
       "      <td>1</td>\n",
       "      <td>Clear</td>\n",
       "      <td>Dry</td>\n",
       "      <td>Dark - Street Lights On</td>\n",
       "      <td>0</td>\n",
       "      <td>2</td>\n",
       "      <td>0.241117</td>\n",
       "      <td>0.758883</td>\n",
       "    </tr>\n",
       "    <tr>\n",
       "      <th>13346</th>\n",
       "      <td>47.730122</td>\n",
       "      <td>-122.293045</td>\n",
       "      <td>Block</td>\n",
       "      <td>3</td>\n",
       "      <td>3</td>\n",
       "      <td>0</td>\n",
       "      <td>0</td>\n",
       "      <td>Overcast</td>\n",
       "      <td>Dry</td>\n",
       "      <td>Daylight</td>\n",
       "      <td>1</td>\n",
       "      <td>1</td>\n",
       "      <td>0.790998</td>\n",
       "      <td>0.209002</td>\n",
       "    </tr>\n",
       "    <tr>\n",
       "      <th>133572</th>\n",
       "      <td>47.664981</td>\n",
       "      <td>-122.324519</td>\n",
       "      <td>Block</td>\n",
       "      <td>2</td>\n",
       "      <td>2</td>\n",
       "      <td>1</td>\n",
       "      <td>0</td>\n",
       "      <td>Clear</td>\n",
       "      <td>Dry</td>\n",
       "      <td>Daylight</td>\n",
       "      <td>0</td>\n",
       "      <td>1</td>\n",
       "      <td>0.726525</td>\n",
       "      <td>0.273475</td>\n",
       "    </tr>\n",
       "    <tr>\n",
       "      <th>51913</th>\n",
       "      <td>47.724075</td>\n",
       "      <td>-122.328906</td>\n",
       "      <td>Block</td>\n",
       "      <td>2</td>\n",
       "      <td>2</td>\n",
       "      <td>0</td>\n",
       "      <td>0</td>\n",
       "      <td>Overcast</td>\n",
       "      <td>Dry</td>\n",
       "      <td>Dawn</td>\n",
       "      <td>0</td>\n",
       "      <td>1</td>\n",
       "      <td>0.831221</td>\n",
       "      <td>0.168779</td>\n",
       "    </tr>\n",
       "    <tr>\n",
       "      <th>135451</th>\n",
       "      <td>47.570674</td>\n",
       "      <td>-122.288272</td>\n",
       "      <td>Block</td>\n",
       "      <td>2</td>\n",
       "      <td>2</td>\n",
       "      <td>0</td>\n",
       "      <td>0</td>\n",
       "      <td>Unknown</td>\n",
       "      <td>Unknown</td>\n",
       "      <td>Unknown</td>\n",
       "      <td>0</td>\n",
       "      <td>1</td>\n",
       "      <td>0.903107</td>\n",
       "      <td>0.096893</td>\n",
       "    </tr>\n",
       "  </tbody>\n",
       "</table>\n",
       "</div>"
      ],
      "text/plain": [
       "         LATITUDE   LONGITUDE      ADDRTYPE  PERSONCOUNT  VEHCOUNT  \\\n",
       "114279  47.617528 -122.343624  Intersection            6         2   \n",
       "13346   47.730122 -122.293045         Block            3         3   \n",
       "133572  47.664981 -122.324519         Block            2         2   \n",
       "51913   47.724075 -122.328906         Block            2         2   \n",
       "135451  47.570674 -122.288272         Block            2         2   \n",
       "\n",
       "        INATTENTIONIND  UNDERINFL   WEATHER ROADCOND                LIGHTCOND  \\\n",
       "114279               0          1     Clear      Dry  Dark - Street Lights On   \n",
       "13346                0          0  Overcast      Dry                 Daylight   \n",
       "133572               1          0     Clear      Dry                 Daylight   \n",
       "51913                0          0  Overcast      Dry                     Dawn   \n",
       "135451               0          0   Unknown  Unknown                  Unknown   \n",
       "\n",
       "        SPEEDING  SEVERITYCODE  PROP_DAMAGE    INJURY  \n",
       "114279         0             2     0.241117  0.758883  \n",
       "13346          1             1     0.790998  0.209002  \n",
       "133572         0             1     0.726525  0.273475  \n",
       "51913          0             1     0.831221  0.168779  \n",
       "135451         0             1     0.903107  0.096893  "
      ]
     },
     "execution_count": 29,
     "metadata": {},
     "output_type": "execute_result"
    }
   ],
   "source": [
    "y_map['PROP_DAMAGE'] = yhat_prob_df['PROP_DAMAGE'].values\n",
    "y_map['INJURY'] = yhat_prob_df['INJURY'].values\n",
    "print(y_map.shape)\n",
    "y_map.head()"
   ]
  },
  {
   "cell_type": "markdown",
   "metadata": {},
   "source": [
    "Create labels for plotting in each coordinate."
   ]
  },
  {
   "cell_type": "code",
   "execution_count": 30,
   "metadata": {},
   "outputs": [],
   "source": [
    "road_type = list(y_map.ADDRTYPE)\n",
    "weather = list(y_map.WEATHER)\n",
    "road_cond = list(y_map.ROADCOND)\n",
    "light = list(y_map.LIGHTCOND)\n",
    "damage = list(y_map.PROP_DAMAGE)\n",
    "injury = list(y_map.INJURY)\n",
    "labels = []\n",
    "\n",
    "for i, lbl in enumerate(road_type):\n",
    "    temp_lbl = \"Road Type: \" + str(lbl) + \"; \" +\\\n",
    "                \"Weather: \" + str(weather[i]) + \"; \" +\\\n",
    "                \"Road Cond.: \" + str(road_cond[i]) + \"; \" +\\\n",
    "                \"Light Cond.: \" + str(light[i]) + \"; \" +\\\n",
    "                \"Prop. Damage Prob.: \" + str(round(damage[i]*100, 2)) + \"%; \" +\\\n",
    "                \"Injury Prob.: \" + str(round(injury[i]*100,2)) + \"%; \"\n",
    "    labels.append(temp_lbl)"
   ]
  },
  {
   "cell_type": "markdown",
   "metadata": {},
   "source": [
    "Plot the data in Seattle City map."
   ]
  },
  {
   "cell_type": "code",
   "execution_count": 31,
   "metadata": {},
   "outputs": [],
   "source": [
    "import folium\n",
    "seattle_map = folium.Map(location=[47.608013, -122.335167], zoom_start=11)"
   ]
  },
  {
   "cell_type": "code",
   "execution_count": 32,
   "metadata": {},
   "outputs": [
    {
     "data": {
      "text/html": [
       "<div style=\"width:100%;\"><div style=\"position:relative;width:100%;height:0;padding-bottom:60%;\"><span style=\"color:#565656\">Make this Notebook Trusted to load map: File -> Trust Notebook</span><iframe src=\"about:blank\" style=\"position:absolute;width:100%;height:100%;left:0;top:0;border:none !important;\" data-html=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 onload=\"this.contentDocument.open();this.contentDocument.write(atob(this.getAttribute('data-html')));this.contentDocument.close();\" allowfullscreen webkitallowfullscreen mozallowfullscreen></iframe></div></div>"
      ],
      "text/plain": [
       "<folium.folium.Map at 0x29a9d8217c8>"
      ]
     },
     "execution_count": 32,
     "metadata": {},
     "output_type": "execute_result"
    }
   ],
   "source": [
    "# loop through the 100 accidents and add each to the map\n",
    "for lat, lng, label in zip(y_map.LATITUDE, y_map.LONGITUDE, labels):\n",
    "    folium.features.CircleMarker(\n",
    "        [lat, lng],\n",
    "        radius=5, # define how big you want the circle markers to be\n",
    "        color='red',\n",
    "        fill=True,\n",
    "        popup=label,\n",
    "        fill_color='orange',\n",
    "        fill_opacity=0.6\n",
    "    ).add_to(seattle_map)\n",
    "\n",
    "# show map\n",
    "seattle_map"
   ]
  },
  {
   "cell_type": "code",
   "execution_count": null,
   "metadata": {},
   "outputs": [],
   "source": []
  }
 ],
 "metadata": {
  "kernelspec": {
   "display_name": "Python 3",
   "language": "python",
   "name": "python3"
  },
  "language_info": {
   "codemirror_mode": {
    "name": "ipython",
    "version": 3
   },
   "file_extension": ".py",
   "mimetype": "text/x-python",
   "name": "python",
   "nbconvert_exporter": "python",
   "pygments_lexer": "ipython3",
   "version": "3.7.6"
  }
 },
 "nbformat": 4,
 "nbformat_minor": 4
}
