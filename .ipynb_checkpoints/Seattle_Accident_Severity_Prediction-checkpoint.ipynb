{
 "cells": [
  {
   "cell_type": "markdown",
   "metadata": {},
   "source": [
    "# Accident Severity Prediction in Seattle City\n",
    "## IBM Coursera Applied Data Science Capstone Project\n",
    "<br>"
   ]
  },
  {
   "cell_type": "code",
   "execution_count": 1,
   "metadata": {},
   "outputs": [],
   "source": [
    "import pandas as pd\n",
    "import numpy as np"
   ]
  },
  {
   "cell_type": "markdown",
   "metadata": {},
   "source": [
    "## 1. Data Acquisition, Selection, and Cleaning\n",
    "### 1.1. Data Acquisition\n",
    "Dataset acquired from https://s3.us.cloud-object-storage.appdomain.cloud/cf-courses-data/CognitiveClass/DP0701EN/version-2/Data-Collisions.csv. The metadata for this dataset can be downloaded in https://s3.us.cloud-object-storage.appdomain.cloud/cf-courses-data/CognitiveClass/DP0701EN/version-2/Metadata.pdf."
   ]
  },
  {
   "cell_type": "code",
   "execution_count": 2,
   "metadata": {
    "scrolled": false
   },
   "outputs": [
    {
     "name": "stderr",
     "output_type": "stream",
     "text": [
      "C:\\Users\\ABEDNEGO\\Anaconda3\\lib\\site-packages\\IPython\\core\\interactiveshell.py:3146: DtypeWarning: Columns (33) have mixed types.Specify dtype option on import or set low_memory=False.\n",
      "  interactivity=interactivity, compiler=compiler, result=result)\n"
     ]
    },
    {
     "data": {
      "text/html": [
       "<div>\n",
       "<style scoped>\n",
       "    .dataframe tbody tr th:only-of-type {\n",
       "        vertical-align: middle;\n",
       "    }\n",
       "\n",
       "    .dataframe tbody tr th {\n",
       "        vertical-align: top;\n",
       "    }\n",
       "\n",
       "    .dataframe thead th {\n",
       "        text-align: right;\n",
       "    }\n",
       "</style>\n",
       "<table border=\"1\" class=\"dataframe\">\n",
       "  <thead>\n",
       "    <tr style=\"text-align: right;\">\n",
       "      <th></th>\n",
       "      <th>SEVERITYCODE</th>\n",
       "      <th>X</th>\n",
       "      <th>Y</th>\n",
       "      <th>OBJECTID</th>\n",
       "      <th>INCKEY</th>\n",
       "      <th>COLDETKEY</th>\n",
       "      <th>REPORTNO</th>\n",
       "      <th>STATUS</th>\n",
       "      <th>ADDRTYPE</th>\n",
       "      <th>INTKEY</th>\n",
       "      <th>...</th>\n",
       "      <th>ROADCOND</th>\n",
       "      <th>LIGHTCOND</th>\n",
       "      <th>PEDROWNOTGRNT</th>\n",
       "      <th>SDOTCOLNUM</th>\n",
       "      <th>SPEEDING</th>\n",
       "      <th>ST_COLCODE</th>\n",
       "      <th>ST_COLDESC</th>\n",
       "      <th>SEGLANEKEY</th>\n",
       "      <th>CROSSWALKKEY</th>\n",
       "      <th>HITPARKEDCAR</th>\n",
       "    </tr>\n",
       "  </thead>\n",
       "  <tbody>\n",
       "    <tr>\n",
       "      <th>0</th>\n",
       "      <td>2</td>\n",
       "      <td>-122.323148</td>\n",
       "      <td>47.703140</td>\n",
       "      <td>1</td>\n",
       "      <td>1307</td>\n",
       "      <td>1307</td>\n",
       "      <td>3502005</td>\n",
       "      <td>Matched</td>\n",
       "      <td>Intersection</td>\n",
       "      <td>37475.0</td>\n",
       "      <td>...</td>\n",
       "      <td>Wet</td>\n",
       "      <td>Daylight</td>\n",
       "      <td>NaN</td>\n",
       "      <td>NaN</td>\n",
       "      <td>NaN</td>\n",
       "      <td>10</td>\n",
       "      <td>Entering at angle</td>\n",
       "      <td>0</td>\n",
       "      <td>0</td>\n",
       "      <td>N</td>\n",
       "    </tr>\n",
       "    <tr>\n",
       "      <th>1</th>\n",
       "      <td>1</td>\n",
       "      <td>-122.347294</td>\n",
       "      <td>47.647172</td>\n",
       "      <td>2</td>\n",
       "      <td>52200</td>\n",
       "      <td>52200</td>\n",
       "      <td>2607959</td>\n",
       "      <td>Matched</td>\n",
       "      <td>Block</td>\n",
       "      <td>NaN</td>\n",
       "      <td>...</td>\n",
       "      <td>Wet</td>\n",
       "      <td>Dark - Street Lights On</td>\n",
       "      <td>NaN</td>\n",
       "      <td>6354039.0</td>\n",
       "      <td>NaN</td>\n",
       "      <td>11</td>\n",
       "      <td>From same direction - both going straight - bo...</td>\n",
       "      <td>0</td>\n",
       "      <td>0</td>\n",
       "      <td>N</td>\n",
       "    </tr>\n",
       "    <tr>\n",
       "      <th>2</th>\n",
       "      <td>1</td>\n",
       "      <td>-122.334540</td>\n",
       "      <td>47.607871</td>\n",
       "      <td>3</td>\n",
       "      <td>26700</td>\n",
       "      <td>26700</td>\n",
       "      <td>1482393</td>\n",
       "      <td>Matched</td>\n",
       "      <td>Block</td>\n",
       "      <td>NaN</td>\n",
       "      <td>...</td>\n",
       "      <td>Dry</td>\n",
       "      <td>Daylight</td>\n",
       "      <td>NaN</td>\n",
       "      <td>4323031.0</td>\n",
       "      <td>NaN</td>\n",
       "      <td>32</td>\n",
       "      <td>One parked--one moving</td>\n",
       "      <td>0</td>\n",
       "      <td>0</td>\n",
       "      <td>N</td>\n",
       "    </tr>\n",
       "    <tr>\n",
       "      <th>3</th>\n",
       "      <td>1</td>\n",
       "      <td>-122.334803</td>\n",
       "      <td>47.604803</td>\n",
       "      <td>4</td>\n",
       "      <td>1144</td>\n",
       "      <td>1144</td>\n",
       "      <td>3503937</td>\n",
       "      <td>Matched</td>\n",
       "      <td>Block</td>\n",
       "      <td>NaN</td>\n",
       "      <td>...</td>\n",
       "      <td>Dry</td>\n",
       "      <td>Daylight</td>\n",
       "      <td>NaN</td>\n",
       "      <td>NaN</td>\n",
       "      <td>NaN</td>\n",
       "      <td>23</td>\n",
       "      <td>From same direction - all others</td>\n",
       "      <td>0</td>\n",
       "      <td>0</td>\n",
       "      <td>N</td>\n",
       "    </tr>\n",
       "    <tr>\n",
       "      <th>4</th>\n",
       "      <td>2</td>\n",
       "      <td>-122.306426</td>\n",
       "      <td>47.545739</td>\n",
       "      <td>5</td>\n",
       "      <td>17700</td>\n",
       "      <td>17700</td>\n",
       "      <td>1807429</td>\n",
       "      <td>Matched</td>\n",
       "      <td>Intersection</td>\n",
       "      <td>34387.0</td>\n",
       "      <td>...</td>\n",
       "      <td>Wet</td>\n",
       "      <td>Daylight</td>\n",
       "      <td>NaN</td>\n",
       "      <td>4028032.0</td>\n",
       "      <td>NaN</td>\n",
       "      <td>10</td>\n",
       "      <td>Entering at angle</td>\n",
       "      <td>0</td>\n",
       "      <td>0</td>\n",
       "      <td>N</td>\n",
       "    </tr>\n",
       "  </tbody>\n",
       "</table>\n",
       "<p>5 rows × 38 columns</p>\n",
       "</div>"
      ],
      "text/plain": [
       "   SEVERITYCODE           X          Y  OBJECTID  INCKEY  COLDETKEY REPORTNO  \\\n",
       "0             2 -122.323148  47.703140         1    1307       1307  3502005   \n",
       "1             1 -122.347294  47.647172         2   52200      52200  2607959   \n",
       "2             1 -122.334540  47.607871         3   26700      26700  1482393   \n",
       "3             1 -122.334803  47.604803         4    1144       1144  3503937   \n",
       "4             2 -122.306426  47.545739         5   17700      17700  1807429   \n",
       "\n",
       "    STATUS      ADDRTYPE   INTKEY  ... ROADCOND                LIGHTCOND  \\\n",
       "0  Matched  Intersection  37475.0  ...      Wet                 Daylight   \n",
       "1  Matched         Block      NaN  ...      Wet  Dark - Street Lights On   \n",
       "2  Matched         Block      NaN  ...      Dry                 Daylight   \n",
       "3  Matched         Block      NaN  ...      Dry                 Daylight   \n",
       "4  Matched  Intersection  34387.0  ...      Wet                 Daylight   \n",
       "\n",
       "  PEDROWNOTGRNT  SDOTCOLNUM SPEEDING ST_COLCODE  \\\n",
       "0           NaN         NaN      NaN         10   \n",
       "1           NaN   6354039.0      NaN         11   \n",
       "2           NaN   4323031.0      NaN         32   \n",
       "3           NaN         NaN      NaN         23   \n",
       "4           NaN   4028032.0      NaN         10   \n",
       "\n",
       "                                          ST_COLDESC  SEGLANEKEY  \\\n",
       "0                                  Entering at angle           0   \n",
       "1  From same direction - both going straight - bo...           0   \n",
       "2                             One parked--one moving           0   \n",
       "3                   From same direction - all others           0   \n",
       "4                                  Entering at angle           0   \n",
       "\n",
       "   CROSSWALKKEY  HITPARKEDCAR  \n",
       "0             0             N  \n",
       "1             0             N  \n",
       "2             0             N  \n",
       "3             0             N  \n",
       "4             0             N  \n",
       "\n",
       "[5 rows x 38 columns]"
      ]
     },
     "execution_count": 2,
     "metadata": {},
     "output_type": "execute_result"
    }
   ],
   "source": [
    "df = pd.read_csv(\"file:///C:/Users/ABEDNEGO//Data-Collisions.csv\")\n",
    "df.head()"
   ]
  },
  {
   "cell_type": "code",
   "execution_count": 3,
   "metadata": {
    "scrolled": true
   },
   "outputs": [
    {
     "name": "stdout",
     "output_type": "stream",
     "text": [
      "Data start date: 2004/01/01 00:00:00+00\n",
      "Data end date 2020/05/20 00:00:00+00\n"
     ]
    }
   ],
   "source": [
    "time = df.sort_values(by='INCDATE')\n",
    "print(\"Data start date:\", time['INCDATE'].head(1).item())\n",
    "print(\"Data end date\", time['INCDATE'].tail(1).item())"
   ]
  },
  {
   "cell_type": "markdown",
   "metadata": {},
   "source": [
    "Drop missing data rename columns, so that latitudes is in feature 'LATITUDE' and longitudes is in feature 'LONGITUDE' "
   ]
  },
  {
   "cell_type": "code",
   "execution_count": 4,
   "metadata": {},
   "outputs": [
    {
     "name": "stdout",
     "output_type": "stream",
     "text": [
      "(189339, 38)\n"
     ]
    },
    {
     "data": {
      "text/html": [
       "<div>\n",
       "<style scoped>\n",
       "    .dataframe tbody tr th:only-of-type {\n",
       "        vertical-align: middle;\n",
       "    }\n",
       "\n",
       "    .dataframe tbody tr th {\n",
       "        vertical-align: top;\n",
       "    }\n",
       "\n",
       "    .dataframe thead th {\n",
       "        text-align: right;\n",
       "    }\n",
       "</style>\n",
       "<table border=\"1\" class=\"dataframe\">\n",
       "  <thead>\n",
       "    <tr style=\"text-align: right;\">\n",
       "      <th></th>\n",
       "      <th>SEVERITYCODE</th>\n",
       "      <th>LONGITUDE</th>\n",
       "      <th>LATITUDE</th>\n",
       "      <th>OBJECTID</th>\n",
       "      <th>INCKEY</th>\n",
       "      <th>COLDETKEY</th>\n",
       "      <th>REPORTNO</th>\n",
       "      <th>STATUS</th>\n",
       "      <th>ADDRTYPE</th>\n",
       "      <th>INTKEY</th>\n",
       "      <th>...</th>\n",
       "      <th>ROADCOND</th>\n",
       "      <th>LIGHTCOND</th>\n",
       "      <th>PEDROWNOTGRNT</th>\n",
       "      <th>SDOTCOLNUM</th>\n",
       "      <th>SPEEDING</th>\n",
       "      <th>ST_COLCODE</th>\n",
       "      <th>ST_COLDESC</th>\n",
       "      <th>SEGLANEKEY</th>\n",
       "      <th>CROSSWALKKEY</th>\n",
       "      <th>HITPARKEDCAR</th>\n",
       "    </tr>\n",
       "  </thead>\n",
       "  <tbody>\n",
       "    <tr>\n",
       "      <th>0</th>\n",
       "      <td>2</td>\n",
       "      <td>-122.323148</td>\n",
       "      <td>47.703140</td>\n",
       "      <td>1</td>\n",
       "      <td>1307</td>\n",
       "      <td>1307</td>\n",
       "      <td>3502005</td>\n",
       "      <td>Matched</td>\n",
       "      <td>Intersection</td>\n",
       "      <td>37475.0</td>\n",
       "      <td>...</td>\n",
       "      <td>Wet</td>\n",
       "      <td>Daylight</td>\n",
       "      <td>NaN</td>\n",
       "      <td>NaN</td>\n",
       "      <td>NaN</td>\n",
       "      <td>10</td>\n",
       "      <td>Entering at angle</td>\n",
       "      <td>0</td>\n",
       "      <td>0</td>\n",
       "      <td>N</td>\n",
       "    </tr>\n",
       "    <tr>\n",
       "      <th>1</th>\n",
       "      <td>1</td>\n",
       "      <td>-122.347294</td>\n",
       "      <td>47.647172</td>\n",
       "      <td>2</td>\n",
       "      <td>52200</td>\n",
       "      <td>52200</td>\n",
       "      <td>2607959</td>\n",
       "      <td>Matched</td>\n",
       "      <td>Block</td>\n",
       "      <td>NaN</td>\n",
       "      <td>...</td>\n",
       "      <td>Wet</td>\n",
       "      <td>Dark - Street Lights On</td>\n",
       "      <td>NaN</td>\n",
       "      <td>6354039.0</td>\n",
       "      <td>NaN</td>\n",
       "      <td>11</td>\n",
       "      <td>From same direction - both going straight - bo...</td>\n",
       "      <td>0</td>\n",
       "      <td>0</td>\n",
       "      <td>N</td>\n",
       "    </tr>\n",
       "    <tr>\n",
       "      <th>2</th>\n",
       "      <td>1</td>\n",
       "      <td>-122.334540</td>\n",
       "      <td>47.607871</td>\n",
       "      <td>3</td>\n",
       "      <td>26700</td>\n",
       "      <td>26700</td>\n",
       "      <td>1482393</td>\n",
       "      <td>Matched</td>\n",
       "      <td>Block</td>\n",
       "      <td>NaN</td>\n",
       "      <td>...</td>\n",
       "      <td>Dry</td>\n",
       "      <td>Daylight</td>\n",
       "      <td>NaN</td>\n",
       "      <td>4323031.0</td>\n",
       "      <td>NaN</td>\n",
       "      <td>32</td>\n",
       "      <td>One parked--one moving</td>\n",
       "      <td>0</td>\n",
       "      <td>0</td>\n",
       "      <td>N</td>\n",
       "    </tr>\n",
       "    <tr>\n",
       "      <th>3</th>\n",
       "      <td>1</td>\n",
       "      <td>-122.334803</td>\n",
       "      <td>47.604803</td>\n",
       "      <td>4</td>\n",
       "      <td>1144</td>\n",
       "      <td>1144</td>\n",
       "      <td>3503937</td>\n",
       "      <td>Matched</td>\n",
       "      <td>Block</td>\n",
       "      <td>NaN</td>\n",
       "      <td>...</td>\n",
       "      <td>Dry</td>\n",
       "      <td>Daylight</td>\n",
       "      <td>NaN</td>\n",
       "      <td>NaN</td>\n",
       "      <td>NaN</td>\n",
       "      <td>23</td>\n",
       "      <td>From same direction - all others</td>\n",
       "      <td>0</td>\n",
       "      <td>0</td>\n",
       "      <td>N</td>\n",
       "    </tr>\n",
       "    <tr>\n",
       "      <th>4</th>\n",
       "      <td>2</td>\n",
       "      <td>-122.306426</td>\n",
       "      <td>47.545739</td>\n",
       "      <td>5</td>\n",
       "      <td>17700</td>\n",
       "      <td>17700</td>\n",
       "      <td>1807429</td>\n",
       "      <td>Matched</td>\n",
       "      <td>Intersection</td>\n",
       "      <td>34387.0</td>\n",
       "      <td>...</td>\n",
       "      <td>Wet</td>\n",
       "      <td>Daylight</td>\n",
       "      <td>NaN</td>\n",
       "      <td>4028032.0</td>\n",
       "      <td>NaN</td>\n",
       "      <td>10</td>\n",
       "      <td>Entering at angle</td>\n",
       "      <td>0</td>\n",
       "      <td>0</td>\n",
       "      <td>N</td>\n",
       "    </tr>\n",
       "  </tbody>\n",
       "</table>\n",
       "<p>5 rows × 38 columns</p>\n",
       "</div>"
      ],
      "text/plain": [
       "   SEVERITYCODE   LONGITUDE   LATITUDE  OBJECTID  INCKEY  COLDETKEY REPORTNO  \\\n",
       "0             2 -122.323148  47.703140         1    1307       1307  3502005   \n",
       "1             1 -122.347294  47.647172         2   52200      52200  2607959   \n",
       "2             1 -122.334540  47.607871         3   26700      26700  1482393   \n",
       "3             1 -122.334803  47.604803         4    1144       1144  3503937   \n",
       "4             2 -122.306426  47.545739         5   17700      17700  1807429   \n",
       "\n",
       "    STATUS      ADDRTYPE   INTKEY  ... ROADCOND                LIGHTCOND  \\\n",
       "0  Matched  Intersection  37475.0  ...      Wet                 Daylight   \n",
       "1  Matched         Block      NaN  ...      Wet  Dark - Street Lights On   \n",
       "2  Matched         Block      NaN  ...      Dry                 Daylight   \n",
       "3  Matched         Block      NaN  ...      Dry                 Daylight   \n",
       "4  Matched  Intersection  34387.0  ...      Wet                 Daylight   \n",
       "\n",
       "  PEDROWNOTGRNT  SDOTCOLNUM SPEEDING ST_COLCODE  \\\n",
       "0           NaN         NaN      NaN         10   \n",
       "1           NaN   6354039.0      NaN         11   \n",
       "2           NaN   4323031.0      NaN         32   \n",
       "3           NaN         NaN      NaN         23   \n",
       "4           NaN   4028032.0      NaN         10   \n",
       "\n",
       "                                          ST_COLDESC  SEGLANEKEY  \\\n",
       "0                                  Entering at angle           0   \n",
       "1  From same direction - both going straight - bo...           0   \n",
       "2                             One parked--one moving           0   \n",
       "3                   From same direction - all others           0   \n",
       "4                                  Entering at angle           0   \n",
       "\n",
       "   CROSSWALKKEY  HITPARKEDCAR  \n",
       "0             0             N  \n",
       "1             0             N  \n",
       "2             0             N  \n",
       "3             0             N  \n",
       "4             0             N  \n",
       "\n",
       "[5 rows x 38 columns]"
      ]
     },
     "execution_count": 4,
     "metadata": {},
     "output_type": "execute_result"
    }
   ],
   "source": [
    "df = df.dropna(subset=[\"X\"], axis=0)\n",
    "df = df.dropna(subset=[\"Y\"], axis=0)\n",
    "df = df.rename(columns={'X':'LONGITUDE', 'Y':'LATITUDE'})\n",
    "print(df.shape)\n",
    "df.head()"
   ]
  },
  {
   "cell_type": "markdown",
   "metadata": {},
   "source": [
    "### 1.2. Features Selection\n",
    "Checking all the features in the dataset, then selecting relevant features for modelling."
   ]
  },
  {
   "cell_type": "code",
   "execution_count": 5,
   "metadata": {},
   "outputs": [
    {
     "name": "stdout",
     "output_type": "stream",
     "text": [
      "Mid-Block (not related to intersection)              87390\n",
      "At Intersection (intersection related)               62491\n",
      "Mid-Block (but intersection related)                 22465\n",
      "Driveway Junction                                    10580\n",
      "At Intersection (but not related to intersection)     2071\n",
      "Ramp Junction                                          143\n",
      "Unknown                                                  6\n",
      "Name: JUNCTIONTYPE, dtype: int64\n",
      "185146\n",
      "Block           124591\n",
      "Intersection     64748\n",
      "Name: ADDRTYPE, dtype: int64\n",
      "189339\n"
     ]
    }
   ],
   "source": [
    "print(df['JUNCTIONTYPE'].value_counts())\n",
    "print(df['JUNCTIONTYPE'].value_counts().sum())\n",
    "print(df['ADDRTYPE'].value_counts())\n",
    "print(df['ADDRTYPE'].value_counts().sum())"
   ]
  },
  {
   "cell_type": "code",
   "execution_count": 6,
   "metadata": {},
   "outputs": [
    {
     "data": {
      "text/plain": [
       "Index(['SEVERITYCODE', 'LONGITUDE', 'LATITUDE', 'OBJECTID', 'INCKEY',\n",
       "       'COLDETKEY', 'REPORTNO', 'STATUS', 'ADDRTYPE', 'INTKEY', 'LOCATION',\n",
       "       'EXCEPTRSNCODE', 'EXCEPTRSNDESC', 'SEVERITYCODE.1', 'SEVERITYDESC',\n",
       "       'COLLISIONTYPE', 'PERSONCOUNT', 'PEDCOUNT', 'PEDCYLCOUNT', 'VEHCOUNT',\n",
       "       'INCDATE', 'INCDTTM', 'JUNCTIONTYPE', 'SDOT_COLCODE', 'SDOT_COLDESC',\n",
       "       'INATTENTIONIND', 'UNDERINFL', 'WEATHER', 'ROADCOND', 'LIGHTCOND',\n",
       "       'PEDROWNOTGRNT', 'SDOTCOLNUM', 'SPEEDING', 'ST_COLCODE', 'ST_COLDESC',\n",
       "       'SEGLANEKEY', 'CROSSWALKKEY', 'HITPARKEDCAR'],\n",
       "      dtype='object')"
      ]
     },
     "execution_count": 6,
     "metadata": {},
     "output_type": "execute_result"
    }
   ],
   "source": [
    "df.columns"
   ]
  },
  {
   "cell_type": "code",
   "execution_count": 7,
   "metadata": {},
   "outputs": [
    {
     "data": {
      "text/html": [
       "<div>\n",
       "<style scoped>\n",
       "    .dataframe tbody tr th:only-of-type {\n",
       "        vertical-align: middle;\n",
       "    }\n",
       "\n",
       "    .dataframe tbody tr th {\n",
       "        vertical-align: top;\n",
       "    }\n",
       "\n",
       "    .dataframe thead th {\n",
       "        text-align: right;\n",
       "    }\n",
       "</style>\n",
       "<table border=\"1\" class=\"dataframe\">\n",
       "  <thead>\n",
       "    <tr style=\"text-align: right;\">\n",
       "      <th></th>\n",
       "      <th>LATITUDE</th>\n",
       "      <th>LONGITUDE</th>\n",
       "      <th>ADDRTYPE</th>\n",
       "      <th>PERSONCOUNT</th>\n",
       "      <th>VEHCOUNT</th>\n",
       "      <th>INATTENTIONIND</th>\n",
       "      <th>UNDERINFL</th>\n",
       "      <th>WEATHER</th>\n",
       "      <th>ROADCOND</th>\n",
       "      <th>LIGHTCOND</th>\n",
       "      <th>SPEEDING</th>\n",
       "      <th>SEVERITYCODE</th>\n",
       "    </tr>\n",
       "  </thead>\n",
       "  <tbody>\n",
       "    <tr>\n",
       "      <th>0</th>\n",
       "      <td>47.703140</td>\n",
       "      <td>-122.323148</td>\n",
       "      <td>Intersection</td>\n",
       "      <td>2</td>\n",
       "      <td>2</td>\n",
       "      <td>NaN</td>\n",
       "      <td>N</td>\n",
       "      <td>Overcast</td>\n",
       "      <td>Wet</td>\n",
       "      <td>Daylight</td>\n",
       "      <td>NaN</td>\n",
       "      <td>2</td>\n",
       "    </tr>\n",
       "    <tr>\n",
       "      <th>1</th>\n",
       "      <td>47.647172</td>\n",
       "      <td>-122.347294</td>\n",
       "      <td>Block</td>\n",
       "      <td>2</td>\n",
       "      <td>2</td>\n",
       "      <td>NaN</td>\n",
       "      <td>0</td>\n",
       "      <td>Raining</td>\n",
       "      <td>Wet</td>\n",
       "      <td>Dark - Street Lights On</td>\n",
       "      <td>NaN</td>\n",
       "      <td>1</td>\n",
       "    </tr>\n",
       "    <tr>\n",
       "      <th>2</th>\n",
       "      <td>47.607871</td>\n",
       "      <td>-122.334540</td>\n",
       "      <td>Block</td>\n",
       "      <td>4</td>\n",
       "      <td>3</td>\n",
       "      <td>NaN</td>\n",
       "      <td>0</td>\n",
       "      <td>Overcast</td>\n",
       "      <td>Dry</td>\n",
       "      <td>Daylight</td>\n",
       "      <td>NaN</td>\n",
       "      <td>1</td>\n",
       "    </tr>\n",
       "    <tr>\n",
       "      <th>3</th>\n",
       "      <td>47.604803</td>\n",
       "      <td>-122.334803</td>\n",
       "      <td>Block</td>\n",
       "      <td>3</td>\n",
       "      <td>3</td>\n",
       "      <td>NaN</td>\n",
       "      <td>N</td>\n",
       "      <td>Clear</td>\n",
       "      <td>Dry</td>\n",
       "      <td>Daylight</td>\n",
       "      <td>NaN</td>\n",
       "      <td>1</td>\n",
       "    </tr>\n",
       "    <tr>\n",
       "      <th>4</th>\n",
       "      <td>47.545739</td>\n",
       "      <td>-122.306426</td>\n",
       "      <td>Intersection</td>\n",
       "      <td>2</td>\n",
       "      <td>2</td>\n",
       "      <td>NaN</td>\n",
       "      <td>0</td>\n",
       "      <td>Raining</td>\n",
       "      <td>Wet</td>\n",
       "      <td>Daylight</td>\n",
       "      <td>NaN</td>\n",
       "      <td>2</td>\n",
       "    </tr>\n",
       "  </tbody>\n",
       "</table>\n",
       "</div>"
      ],
      "text/plain": [
       "    LATITUDE   LONGITUDE      ADDRTYPE  PERSONCOUNT  VEHCOUNT INATTENTIONIND  \\\n",
       "0  47.703140 -122.323148  Intersection            2         2            NaN   \n",
       "1  47.647172 -122.347294         Block            2         2            NaN   \n",
       "2  47.607871 -122.334540         Block            4         3            NaN   \n",
       "3  47.604803 -122.334803         Block            3         3            NaN   \n",
       "4  47.545739 -122.306426  Intersection            2         2            NaN   \n",
       "\n",
       "  UNDERINFL   WEATHER ROADCOND                LIGHTCOND SPEEDING  SEVERITYCODE  \n",
       "0         N  Overcast      Wet                 Daylight      NaN             2  \n",
       "1         0   Raining      Wet  Dark - Street Lights On      NaN             1  \n",
       "2         0  Overcast      Dry                 Daylight      NaN             1  \n",
       "3         N     Clear      Dry                 Daylight      NaN             1  \n",
       "4         0   Raining      Wet                 Daylight      NaN             2  "
      ]
     },
     "execution_count": 7,
     "metadata": {},
     "output_type": "execute_result"
    }
   ],
   "source": [
    "model_df = df[['LATITUDE', 'LONGITUDE', 'ADDRTYPE', 'PERSONCOUNT', 'VEHCOUNT', 'INATTENTIONIND', 'UNDERINFL',\\\n",
    "               'WEATHER', 'ROADCOND', 'LIGHTCOND', 'SPEEDING', 'SEVERITYCODE']]\n",
    "model_df.head()"
   ]
  },
  {
   "cell_type": "markdown",
   "metadata": {},
   "source": [
    "### 1.3. Data Cleaning\n",
    "Checking missing data in each feature.<br>\n",
    "False: Data is available.<br>\n",
    "True: Data is missing."
   ]
  },
  {
   "cell_type": "code",
   "execution_count": 8,
   "metadata": {
    "scrolled": false
   },
   "outputs": [
    {
     "name": "stdout",
     "output_type": "stream",
     "text": [
      "LATITUDE\n",
      "False    189339\n",
      "Name: LATITUDE, dtype: int64\n",
      "\n",
      "LONGITUDE\n",
      "False    189339\n",
      "Name: LONGITUDE, dtype: int64\n",
      "\n",
      "ADDRTYPE\n",
      "False    189339\n",
      "Name: ADDRTYPE, dtype: int64\n",
      "\n",
      "PERSONCOUNT\n",
      "False    189339\n",
      "Name: PERSONCOUNT, dtype: int64\n",
      "\n",
      "VEHCOUNT\n",
      "False    189339\n",
      "Name: VEHCOUNT, dtype: int64\n",
      "\n",
      "INATTENTIONIND\n",
      "True     160163\n",
      "False     29176\n",
      "Name: INATTENTIONIND, dtype: int64\n",
      "\n",
      "UNDERINFL\n",
      "False    184602\n",
      "True       4737\n",
      "Name: UNDERINFL, dtype: int64\n",
      "\n",
      "WEATHER\n",
      "False    184414\n",
      "True       4925\n",
      "Name: WEATHER, dtype: int64\n",
      "\n",
      "ROADCOND\n",
      "False    184481\n",
      "True       4858\n",
      "Name: ROADCOND, dtype: int64\n",
      "\n",
      "LIGHTCOND\n",
      "False    184327\n",
      "True       5012\n",
      "Name: LIGHTCOND, dtype: int64\n",
      "\n",
      "SPEEDING\n",
      "True     180619\n",
      "False      8720\n",
      "Name: SPEEDING, dtype: int64\n",
      "\n",
      "SEVERITYCODE\n",
      "False    189339\n",
      "Name: SEVERITYCODE, dtype: int64\n",
      "\n"
     ]
    }
   ],
   "source": [
    "missing_values = model_df.isnull()\n",
    "for column in missing_values.columns.values.tolist():\n",
    "    print(column)\n",
    "    print (missing_values[column].value_counts())\n",
    "    print(\"\")"
   ]
  },
  {
   "cell_type": "markdown",
   "metadata": {},
   "source": [
    "Drop and replace missing data."
   ]
  },
  {
   "cell_type": "code",
   "execution_count": 9,
   "metadata": {
    "scrolled": false
   },
   "outputs": [
    {
     "data": {
      "text/plain": [
       "(189339, 12)"
      ]
     },
     "execution_count": 9,
     "metadata": {},
     "output_type": "execute_result"
    }
   ],
   "source": [
    "clean_df = model_df.copy()\n",
    "\n",
    "clean_df.dropna(subset=[\"ADDRTYPE\"], axis=0, inplace=True)\n",
    "clean_df.reset_index(drop=True, inplace=True)\n",
    "clean_df.replace({'INATTENTIONIND' : {'Y' : int(1), np.nan : int(0)},\n",
    "                 'SPEEDING' : {'Y' : int(1), np.nan : int(0)},\n",
    "                 'UNDERINFL' : {'Y' : int(1), '1' : int(1),\n",
    "                                'N' : int(0), '0' : int(0),\n",
    "                                np.nan : int(0)}}, inplace=True)\n",
    "clean_df['WEATHER'].replace(np.nan, 'Unknown', inplace=True)\n",
    "clean_df['ROADCOND'].replace(np.nan, 'Unknown', inplace=True)\n",
    "clean_df['LIGHTCOND'].replace(np.nan, 'Unknown', inplace=True)\n",
    "\n",
    "clean_df.shape"
   ]
  },
  {
   "cell_type": "markdown",
   "metadata": {},
   "source": [
    "## 2. Exploratory Data Analysis\n",
    "Explore the combination of road conditions that lead to accident. First, select the relevant data, and then check the unique data from each selected features. There are Unknown and Other values in the data that cannot be interpreted. Therefore, data with value Unknown or Other will be dropped from the dataframe."
   ]
  },
  {
   "cell_type": "code",
   "execution_count": 10,
   "metadata": {},
   "outputs": [
    {
     "name": "stdout",
     "output_type": "stream",
     "text": [
      "Clear                       108959\n",
      "Raining                      32015\n",
      "Overcast                     27136\n",
      "Snowing                        894\n",
      "Fog/Smog/Smoke                 553\n",
      "Sleet/Hail/Freezing Rain       112\n",
      "Blowing Sand/Dirt               50\n",
      "Severe Crosswind                24\n",
      "Partly Cloudy                    5\n",
      "Name: WEATHER, dtype: int64\n",
      "Dry               121017\n",
      "Wet                45569\n",
      "Ice                 1086\n",
      "Snow/Slush           889\n",
      "Standing Water        95\n",
      "Sand/Mud/Dirt         56\n",
      "Oil                   49\n",
      "Name: ROADCOND, dtype: int64\n",
      "Daylight                    110315\n",
      "Dark - Street Lights On      45621\n",
      "Dusk                          5532\n",
      "Dawn                          2337\n",
      "Dark - No Street Lights       1333\n",
      "Dark - Street Lights Off      1071\n",
      "Dark - Unknown Lighting          8\n",
      "Name: LIGHTCOND, dtype: int64\n",
      "(166217, 4)\n"
     ]
    }
   ],
   "source": [
    "EDA_df = clean_df[['WEATHER', 'ROADCOND', 'LIGHTCOND', 'SEVERITYCODE']]\n",
    "# drop Unknown and Other data in WEATHER feature\n",
    "EDA_df = EDA_df[EDA_df.WEATHER != 'Unknown']\n",
    "EDA_df = EDA_df[EDA_df.WEATHER != 'Other']\n",
    "print(EDA_df['WEATHER'].value_counts())\n",
    "# drop Unknown and Other data in ROADCOND feature\n",
    "EDA_df = EDA_df[EDA_df.ROADCOND != 'Unknown']\n",
    "EDA_df = EDA_df[EDA_df.ROADCOND != 'Other']\n",
    "print(EDA_df['ROADCOND'].value_counts())\n",
    "# drop Unknown and Other data in LIGHTCOND feature\n",
    "EDA_df = EDA_df[EDA_df.LIGHTCOND != 'Unknown']\n",
    "EDA_df = EDA_df[EDA_df.LIGHTCOND != 'Other']\n",
    "print(EDA_df['LIGHTCOND'].value_counts())\n",
    "print(EDA_df.shape)"
   ]
  },
  {
   "cell_type": "markdown",
   "metadata": {},
   "source": [
    "### 2.1. Accident that Lead to Property Damage\n",
    "Use group by and value count method to calculate the number of accident in each combination of conditions. Top ten conditions that lead to accident with property damage is selected by using sort_values and head method. Finally, joining the WEATHER, ROADCOND, and LIGHTCOND features into one feature called CONDITIONS."
   ]
  },
  {
   "cell_type": "code",
   "execution_count": 11,
   "metadata": {},
   "outputs": [],
   "source": [
    "EDA_df = EDA_df.groupby(['WEATHER', 'ROADCOND', 'LIGHTCOND'])['SEVERITYCODE'].value_counts().to_frame()\n",
    "EDA_df = EDA_df.rename(columns={'SEVERITYCODE':'ACC_COUNTS'})\n",
    "EDA_df = EDA_df.reset_index()"
   ]
  },
  {
   "cell_type": "code",
   "execution_count": 12,
   "metadata": {},
   "outputs": [
    {
     "data": {
      "text/html": [
       "<div>\n",
       "<style scoped>\n",
       "    .dataframe tbody tr th:only-of-type {\n",
       "        vertical-align: middle;\n",
       "    }\n",
       "\n",
       "    .dataframe tbody tr th {\n",
       "        vertical-align: top;\n",
       "    }\n",
       "\n",
       "    .dataframe thead th {\n",
       "        text-align: right;\n",
       "    }\n",
       "</style>\n",
       "<table border=\"1\" class=\"dataframe\">\n",
       "  <thead>\n",
       "    <tr style=\"text-align: right;\">\n",
       "      <th></th>\n",
       "      <th>CONDITIONS</th>\n",
       "      <th>ACC_COUNTS</th>\n",
       "    </tr>\n",
       "  </thead>\n",
       "  <tbody>\n",
       "    <tr>\n",
       "      <th>0</th>\n",
       "      <td>Clear, Dry, Daylight</td>\n",
       "      <td>48828</td>\n",
       "    </tr>\n",
       "    <tr>\n",
       "      <th>1</th>\n",
       "      <td>Clear, Dry, Dark - Street Lights On</td>\n",
       "      <td>16441</td>\n",
       "    </tr>\n",
       "    <tr>\n",
       "      <th>2</th>\n",
       "      <td>Raining, Wet, Daylight</td>\n",
       "      <td>10400</td>\n",
       "    </tr>\n",
       "    <tr>\n",
       "      <th>3</th>\n",
       "      <td>Raining, Wet, Dark - Street Lights On</td>\n",
       "      <td>8182</td>\n",
       "    </tr>\n",
       "    <tr>\n",
       "      <th>4</th>\n",
       "      <td>Overcast, Dry, Daylight</td>\n",
       "      <td>7283</td>\n",
       "    </tr>\n",
       "    <tr>\n",
       "      <th>5</th>\n",
       "      <td>Overcast, Wet, Daylight</td>\n",
       "      <td>3906</td>\n",
       "    </tr>\n",
       "    <tr>\n",
       "      <th>6</th>\n",
       "      <td>Overcast, Dry, Dark - Street Lights On</td>\n",
       "      <td>2513</td>\n",
       "    </tr>\n",
       "    <tr>\n",
       "      <th>7</th>\n",
       "      <td>Overcast, Wet, Dark - Street Lights On</td>\n",
       "      <td>2475</td>\n",
       "    </tr>\n",
       "    <tr>\n",
       "      <th>8</th>\n",
       "      <td>Clear, Dry, Dusk</td>\n",
       "      <td>2051</td>\n",
       "    </tr>\n",
       "    <tr>\n",
       "      <th>9</th>\n",
       "      <td>Clear, Wet, Daylight</td>\n",
       "      <td>1299</td>\n",
       "    </tr>\n",
       "  </tbody>\n",
       "</table>\n",
       "</div>"
      ],
      "text/plain": [
       "                               CONDITIONS  ACC_COUNTS\n",
       "0                    Clear, Dry, Daylight       48828\n",
       "1     Clear, Dry, Dark - Street Lights On       16441\n",
       "2                  Raining, Wet, Daylight       10400\n",
       "3   Raining, Wet, Dark - Street Lights On        8182\n",
       "4                 Overcast, Dry, Daylight        7283\n",
       "5                 Overcast, Wet, Daylight        3906\n",
       "6  Overcast, Dry, Dark - Street Lights On        2513\n",
       "7  Overcast, Wet, Dark - Street Lights On        2475\n",
       "8                        Clear, Dry, Dusk        2051\n",
       "9                    Clear, Wet, Daylight        1299"
      ]
     },
     "execution_count": 12,
     "metadata": {},
     "output_type": "execute_result"
    }
   ],
   "source": [
    "EDA_df1 = EDA_df[EDA_df.SEVERITYCODE == 1]\n",
    "EDA_df1 = EDA_df1.sort_values(by=['ACC_COUNTS'], ascending=False)\n",
    "EDA_df1 = EDA_df1.head(10).reset_index(drop=True)\n",
    "EDA_df1['CONDITIONS'] = EDA_df1[['WEATHER','ROADCOND','LIGHTCOND']].agg(', '.join, axis=1)\n",
    "cond = EDA_df1['CONDITIONS']\n",
    "EDA_df1.drop(labels=['CONDITIONS', 'WEATHER', 'ROADCOND', 'LIGHTCOND', 'SEVERITYCODE'], axis=1, inplace=True)\n",
    "EDA_df1.insert(0, 'CONDITIONS', cond)\n",
    "EDA_df1"
   ]
  },
  {
   "cell_type": "markdown",
   "metadata": {},
   "source": [
    "Plot the data in to a bar plot."
   ]
  },
  {
   "cell_type": "code",
   "execution_count": 13,
   "metadata": {
    "scrolled": false
   },
   "outputs": [
    {
     "data": {
      "image/png": "[encoded data removed]",
      "text/plain": [
       "<Figure size 1440x576 with 1 Axes>"
      ]
     },
     "metadata": {
      "needs_background": "light"
     },
     "output_type": "display_data"
    }
   ],
   "source": [
    "%matplotlib inline \n",
    "\n",
    "import matplotlib as mpl\n",
    "import matplotlib.pyplot as plt\n",
    "\n",
    "labels = EDA_df1['CONDITIONS'].to_list()\n",
    "\n",
    "ax = EDA_df1.plot(kind='bar', stacked=False, width=0.8, figsize=(20,8), fontsize=14)\n",
    "\n",
    "ax.set_title(\"Condition During Accident that Lead to Property Damage in Seattle City\", size=16)\n",
    "ax.set_xticks(np.arange(0, 10, 1))\n",
    "ax.set_xticklabels(labels)\n",
    "\n",
    "for p in ax.patches:\n",
    "    height = p.get_height()\n",
    "    ax.annotate(str(height), xy=(p.get_x() + p.get_width() / 2, height),\n",
    "                xytext=(3, 3), textcoords=\"offset points\", \n",
    "                ha='center', va='bottom', fontsize=14)\n",
    "\n",
    "ax.legend([])\n",
    "ax.spines['top'].set_visible(False)\n",
    "ax.spines['right'].set_visible(False)\n",
    "ax.spines['left'].set_visible(False)\n",
    "ax.get_yaxis().set_ticks([])\n",
    "\n",
    "plt.show()"
   ]
  },
  {
   "cell_type": "markdown",
   "metadata": {},
   "source": [
    "### 2.2. Accident that Lead to Injury\n",
    "Use group by and value count method to calculate the number of accident in each combination of conditions. Top ten conditions that lead to accident with people injured is selected by using sort_values and head method. Finally, joining the WEATHER, ROADCOND, and LIGHTCOND features into one feature called CONDITIONS."
   ]
  },
  {
   "cell_type": "code",
   "execution_count": 14,
   "metadata": {},
   "outputs": [
    {
     "data": {
      "text/html": [
       "<div>\n",
       "<style scoped>\n",
       "    .dataframe tbody tr th:only-of-type {\n",
       "        vertical-align: middle;\n",
       "    }\n",
       "\n",
       "    .dataframe tbody tr th {\n",
       "        vertical-align: top;\n",
       "    }\n",
       "\n",
       "    .dataframe thead th {\n",
       "        text-align: right;\n",
       "    }\n",
       "</style>\n",
       "<table border=\"1\" class=\"dataframe\">\n",
       "  <thead>\n",
       "    <tr style=\"text-align: right;\">\n",
       "      <th></th>\n",
       "      <th>CONDITIONS</th>\n",
       "      <th>ACC_COUNTS</th>\n",
       "    </tr>\n",
       "  </thead>\n",
       "  <tbody>\n",
       "    <tr>\n",
       "      <th>0</th>\n",
       "      <td>Clear, Dry, Daylight</td>\n",
       "      <td>25127</td>\n",
       "    </tr>\n",
       "    <tr>\n",
       "      <th>1</th>\n",
       "      <td>Clear, Dry, Dark - Street Lights On</td>\n",
       "      <td>6961</td>\n",
       "    </tr>\n",
       "    <tr>\n",
       "      <th>2</th>\n",
       "      <td>Raining, Wet, Daylight</td>\n",
       "      <td>5564</td>\n",
       "    </tr>\n",
       "    <tr>\n",
       "      <th>3</th>\n",
       "      <td>Raining, Wet, Dark - Street Lights On</td>\n",
       "      <td>4134</td>\n",
       "    </tr>\n",
       "    <tr>\n",
       "      <th>4</th>\n",
       "      <td>Overcast, Dry, Daylight</td>\n",
       "      <td>3612</td>\n",
       "    </tr>\n",
       "    <tr>\n",
       "      <th>5</th>\n",
       "      <td>Overcast, Wet, Daylight</td>\n",
       "      <td>1995</td>\n",
       "    </tr>\n",
       "    <tr>\n",
       "      <th>6</th>\n",
       "      <td>Overcast, Dry, Dark - Street Lights On</td>\n",
       "      <td>1080</td>\n",
       "    </tr>\n",
       "    <tr>\n",
       "      <th>7</th>\n",
       "      <td>Overcast, Wet, Dark - Street Lights On</td>\n",
       "      <td>1068</td>\n",
       "    </tr>\n",
       "    <tr>\n",
       "      <th>8</th>\n",
       "      <td>Clear, Dry, Dusk</td>\n",
       "      <td>1009</td>\n",
       "    </tr>\n",
       "    <tr>\n",
       "      <th>9</th>\n",
       "      <td>Clear, Wet, Daylight</td>\n",
       "      <td>712</td>\n",
       "    </tr>\n",
       "  </tbody>\n",
       "</table>\n",
       "</div>"
      ],
      "text/plain": [
       "                               CONDITIONS  ACC_COUNTS\n",
       "0                    Clear, Dry, Daylight       25127\n",
       "1     Clear, Dry, Dark - Street Lights On        6961\n",
       "2                  Raining, Wet, Daylight        5564\n",
       "3   Raining, Wet, Dark - Street Lights On        4134\n",
       "4                 Overcast, Dry, Daylight        3612\n",
       "5                 Overcast, Wet, Daylight        1995\n",
       "6  Overcast, Dry, Dark - Street Lights On        1080\n",
       "7  Overcast, Wet, Dark - Street Lights On        1068\n",
       "8                        Clear, Dry, Dusk        1009\n",
       "9                    Clear, Wet, Daylight         712"
      ]
     },
     "execution_count": 14,
     "metadata": {},
     "output_type": "execute_result"
    }
   ],
   "source": [
    "EDA_df2 = EDA_df[EDA_df.SEVERITYCODE == 2]\n",
    "EDA_df2 = EDA_df2.sort_values(by=['ACC_COUNTS'], ascending=False)\n",
    "EDA_df2 = EDA_df2.head(10).reset_index(drop=True)\n",
    "EDA_df2['CONDITIONS'] = EDA_df2[['WEATHER','ROADCOND','LIGHTCOND']].agg(', '.join, axis=1)\n",
    "cond = EDA_df2['CONDITIONS']\n",
    "EDA_df2.drop(labels=['CONDITIONS', 'WEATHER', 'ROADCOND', 'LIGHTCOND', 'SEVERITYCODE'], axis=1, inplace=True)\n",
    "EDA_df2.insert(0, 'CONDITIONS', cond)\n",
    "EDA_df2"
   ]
  },
  {
   "cell_type": "markdown",
   "metadata": {},
   "source": [
    "Plot the data in to a bar plot."
   ]
  },
  {
   "cell_type": "code",
   "execution_count": 15,
   "metadata": {
    "scrolled": false
   },
   "outputs": [
    {
     "data": {
      "image/png": "[encoded data removed]",
      "text/plain": [
       "<Figure size 1440x576 with 1 Axes>"
      ]
     },
     "metadata": {
      "needs_background": "light"
     },
     "output_type": "display_data"
    }
   ],
   "source": [
    "labels = EDA_df2['CONDITIONS'].to_list()\n",
    "\n",
    "ax = EDA_df2.plot(kind='bar', stacked=False, width=0.8, figsize=(20,8), fontsize=14)\n",
    "\n",
    "ax.set_title(\"Condition During Accident that Lead to Injury in Seattle City\", size=16)\n",
    "ax.set_xticks(np.arange(0, 10, 1))\n",
    "ax.set_xticklabels(labels)\n",
    "\n",
    "for p in ax.patches:\n",
    "    height = p.get_height()\n",
    "    ax.annotate(str(height), xy=(p.get_x() + p.get_width() / 2, height),\n",
    "                xytext=(3, 3), textcoords=\"offset points\", \n",
    "                ha='center', va='bottom', fontsize=14)\n",
    "\n",
    "ax.legend([])\n",
    "ax.spines['top'].set_visible(False)\n",
    "ax.spines['right'].set_visible(False)\n",
    "ax.spines['left'].set_visible(False)\n",
    "ax.get_yaxis().set_ticks([])\n",
    "\n",
    "plt.show()"
   ]
  },
  {
   "cell_type": "markdown",
   "metadata": {},
   "source": [
    "## 3. Predictive Classification Model\n",
    "### 3.1. Converting Categorical Data into Numerical Values\n",
    "Checking the unique values in every categorical data in the dataframe."
   ]
  },
  {
   "cell_type": "code",
   "execution_count": 16,
   "metadata": {
    "scrolled": true
   },
   "outputs": [
    {
     "name": "stdout",
     "output_type": "stream",
     "text": [
      "(189339, 12)\n",
      "Unique values in feature 'ADDTYPE': ['Intersection' 'Block']\n",
      "Unique values in feature 'WEATHER': ['Overcast' 'Raining' 'Clear' 'Unknown' 'Other' 'Snowing' 'Fog/Smog/Smoke'\n",
      " 'Sleet/Hail/Freezing Rain' 'Blowing Sand/Dirt' 'Severe Crosswind'\n",
      " 'Partly Cloudy']\n",
      "Unique values in feature 'ROADCOND': ['Wet' 'Dry' 'Unknown' 'Snow/Slush' 'Ice' 'Other' 'Sand/Mud/Dirt'\n",
      " 'Standing Water' 'Oil']\n",
      "Unique values in feature 'LIGHTCOND': ['Daylight' 'Dark - Street Lights On' 'Dark - No Street Lights' 'Unknown'\n",
      " 'Dusk' 'Dawn' 'Dark - Street Lights Off' 'Other'\n",
      " 'Dark - Unknown Lighting']\n"
     ]
    }
   ],
   "source": [
    "print(clean_df.shape)\n",
    "print(\"Unique values in feature 'ADDTYPE':\", clean_df['ADDRTYPE'].unique())\n",
    "print(\"Unique values in feature 'WEATHER':\", clean_df['WEATHER'].unique())\n",
    "print(\"Unique values in feature 'ROADCOND':\", clean_df['ROADCOND'].unique())\n",
    "print(\"Unique values in feature 'LIGHTCOND':\", clean_df['LIGHTCOND'].unique())"
   ]
  },
  {
   "cell_type": "markdown",
   "metadata": {},
   "source": [
    "Merge value 'Other' with value 'Unknown' to simplify the data"
   ]
  },
  {
   "cell_type": "code",
   "execution_count": 17,
   "metadata": {},
   "outputs": [
    {
     "name": "stdout",
     "output_type": "stream",
     "text": [
      "Unique values in feature 'ADDTYPE': ['Intersection' 'Block']\n",
      "Unique values in feature 'WEATHER': ['Overcast' 'Raining' 'Clear' 'Unknown' 'Snowing' 'Fog/Smog/Smoke'\n",
      " 'Sleet/Hail/Freezing Rain' 'Blowing Sand/Dirt' 'Severe Crosswind'\n",
      " 'Partly Cloudy']\n",
      "Unique values in feature 'ROADCOND': ['Wet' 'Dry' 'Unknown' 'Snow/Slush' 'Ice' 'Sand/Mud/Dirt' 'Standing Water'\n",
      " 'Oil']\n",
      "Unique values in feature 'LIGHTCOND': ['Daylight' 'Dark - Street Lights On' 'Dark - No Street Lights' 'Unknown'\n",
      " 'Dusk' 'Dawn' 'Dark - Street Lights Off' 'Dark - Unknown Lighting']\n"
     ]
    }
   ],
   "source": [
    "clean_df.replace({'WEATHER' : {'Other' : 'Unknown'},\n",
    "                 'ROADCOND' : {'Other' : 'Unknown'},\n",
    "                 'LIGHTCOND' : {'Other' : 'Unknown'}}, inplace=True)\n",
    "print(\"Unique values in feature 'ADDTYPE':\", clean_df['ADDRTYPE'].unique())\n",
    "print(\"Unique values in feature 'WEATHER':\", clean_df['WEATHER'].unique())\n",
    "print(\"Unique values in feature 'ROADCOND':\", clean_df['ROADCOND'].unique())\n",
    "print(\"Unique values in feature 'LIGHTCOND':\", clean_df['LIGHTCOND'].unique())"
   ]
  },
  {
   "cell_type": "markdown",
   "metadata": {},
   "source": [
    "Preparing data for encoding and transformation"
   ]
  },
  {
   "cell_type": "code",
   "execution_count": 18,
   "metadata": {},
   "outputs": [
    {
     "name": "stdout",
     "output_type": "stream",
     "text": [
      "    LONGITUDE      ADDRTYPE  PERSONCOUNT  VEHCOUNT  INATTENTIONIND  UNDERINFL  \\\n",
      "0 -122.323148  Intersection            2         2               0          0   \n",
      "1 -122.347294         Block            2         2               0          0   \n",
      "2 -122.334540         Block            4         3               0          0   \n",
      "3 -122.334803         Block            3         3               0          0   \n",
      "4 -122.306426  Intersection            2         2               0          0   \n",
      "\n",
      "    WEATHER ROADCOND                LIGHTCOND  SPEEDING  \n",
      "0  Overcast      Wet                 Daylight         0  \n",
      "1   Raining      Wet  Dark - Street Lights On         0  \n",
      "2  Overcast      Dry                 Daylight         0  \n",
      "3     Clear      Dry                 Daylight         0  \n",
      "4   Raining      Wet                 Daylight         0  \n",
      "(189339, 10)\n",
      "    LATITUDE   LONGITUDE  SEVERITYCODE\n",
      "0  47.703140 -122.323148             2\n",
      "1  47.647172 -122.347294             1\n",
      "2  47.607871 -122.334540             1\n",
      "3  47.604803 -122.334803             1\n",
      "4  47.545739 -122.306426             2\n",
      "(189339, 3)\n"
     ]
    }
   ],
   "source": [
    "X = clean_df.iloc[:, 1:-1]\n",
    "print(X.head())\n",
    "print(X.shape)\n",
    "y = clean_df[['LATITUDE', 'LONGITUDE', 'SEVERITYCODE']]\n",
    "print(y.head())\n",
    "print(y.shape)"
   ]
  },
  {
   "cell_type": "markdown",
   "metadata": {},
   "source": [
    "Encode the data using Ordinal Encoder"
   ]
  },
  {
   "cell_type": "code",
   "execution_count": 19,
   "metadata": {},
   "outputs": [
    {
     "name": "stdout",
     "output_type": "stream",
     "text": [
      "[[1.3233e+04 1.0000e+00 2.0000e+00 2.0000e+00 0.0000e+00 0.0000e+00\n",
      "  3.0000e+00 7.0000e+00 5.0000e+00 0.0000e+00]\n",
      " [8.2340e+03 0.0000e+00 2.0000e+00 2.0000e+00 0.0000e+00 0.0000e+00\n",
      "  5.0000e+00 7.0000e+00 2.0000e+00 0.0000e+00]\n",
      " [1.0639e+04 0.0000e+00 4.0000e+00 3.0000e+00 0.0000e+00 0.0000e+00\n",
      "  3.0000e+00 0.0000e+00 5.0000e+00 0.0000e+00]\n",
      " [1.0597e+04 0.0000e+00 3.0000e+00 3.0000e+00 0.0000e+00 0.0000e+00\n",
      "  1.0000e+00 0.0000e+00 5.0000e+00 0.0000e+00]\n",
      " [1.7121e+04 1.0000e+00 2.0000e+00 2.0000e+00 0.0000e+00 0.0000e+00\n",
      "  5.0000e+00 7.0000e+00 5.0000e+00 0.0000e+00]]\n",
      "(189339, 10)\n"
     ]
    }
   ],
   "source": [
    "from sklearn.preprocessing import OrdinalEncoder\n",
    "ordinal_encoder = OrdinalEncoder()\n",
    "X = ordinal_encoder.fit_transform(X)\n",
    "print(X[0:5])\n",
    "print(X.shape)"
   ]
  },
  {
   "cell_type": "markdown",
   "metadata": {},
   "source": [
    "### 2.2. Data Split, and Normalization\n",
    "Split data from Ordinal Encoder transformation into training, and testing data. "
   ]
  },
  {
   "cell_type": "code",
   "execution_count": 20,
   "metadata": {
    "scrolled": true
   },
   "outputs": [
    {
     "name": "stdout",
     "output_type": "stream",
     "text": [
      "Train set: (151471, 10) (151471, 3)\n",
      "Test set: (37868, 10) (37868, 3)\n"
     ]
    }
   ],
   "source": [
    "from sklearn.model_selection import train_test_split\n",
    "X_train, X_test, y_train_loc, y_test_loc = train_test_split(X, y, test_size=0.2, random_state=9)\n",
    "print ('Train set:', X_train.shape,  y_train_loc.shape)\n",
    "print ('Test set:', X_test.shape,  y_test_loc.shape)"
   ]
  },
  {
   "cell_type": "markdown",
   "metadata": {},
   "source": [
    "Removing 'LOC_COORD' from y_train and y_test"
   ]
  },
  {
   "cell_type": "code",
   "execution_count": 21,
   "metadata": {},
   "outputs": [
    {
     "name": "stdout",
     "output_type": "stream",
     "text": [
      "Train set: (151471, 10) (151471,)\n",
      "Test set: (37868, 10) (37868,)\n"
     ]
    }
   ],
   "source": [
    "y_train = y_train_loc['SEVERITYCODE'].values\n",
    "y_test = y_test_loc['SEVERITYCODE'].values\n",
    "print ('Train set:', X_train.shape,  y_train.shape)\n",
    "print ('Test set:', X_test.shape,  y_test.shape)"
   ]
  },
  {
   "cell_type": "markdown",
   "metadata": {},
   "source": [
    "Normalize data from Ordinal Encoder transformation"
   ]
  },
  {
   "cell_type": "code",
   "execution_count": 22,
   "metadata": {},
   "outputs": [
    {
     "name": "stdout",
     "output_type": "stream",
     "text": [
      "(151471, 10)\n",
      "[[ 1.06284246 -0.72096192 -1.09254506 -1.46685214 -0.42596635 -0.22204146\n",
      "  -0.70135018 -0.41688319 -1.48678774 -0.22016903]\n",
      " [-0.29661826 -0.72096192  0.41345334  0.12202614 -0.42596635 -0.22204146\n",
      "  -0.70135018 -0.73045283 -1.48678774 -0.22016903]\n",
      " [ 0.77337882 -0.72096192 -0.33954586  0.12202614  2.34760325 -0.22204146\n",
      "   0.06490929  1.46453466 -1.48678774 -0.22016903]]\n",
      "(37868, 10)\n",
      "[[-0.51132703  1.38771444  2.70336305  0.11407961 -0.43016446  4.52406014\n",
      "  -0.70267064 -0.73152662 -1.49196715 -0.217934  ]\n",
      " [ 1.36355412 -0.72060935  0.41385101  1.69590558 -0.43016446 -0.22104039\n",
      "   0.0647266  -0.73152662  0.37472121  4.58854516]\n",
      " [ 0.16746458 -0.72060935 -0.34931967  0.11407961  2.32469227 -0.22104039\n",
      "  -0.70267064 -0.73152662  0.37472121 -0.217934  ]]\n"
     ]
    }
   ],
   "source": [
    "from sklearn import preprocessing\n",
    "X_train = preprocessing.StandardScaler().fit(X_train).transform(X_train)\n",
    "X_test = preprocessing.StandardScaler().fit(X_test).transform(X_test)\n",
    "print(X_train.shape)\n",
    "print(X_train[0:3])\n",
    "print(X_test.shape)\n",
    "print(X_test[0:3])"
   ]
  },
  {
   "cell_type": "markdown",
   "metadata": {},
   "source": [
    "### 2.3. Logistic Regression Classification\n",
    "#### 2.3.1. Logistic Regression Modelling\n",
    "Logistic Regression Classification is used to predict accident severity, and its probability. Evaluation metrics that are calculated is Jaccard similarity index, f1-score, and logaritmic loss."
   ]
  },
  {
   "cell_type": "code",
   "execution_count": 23,
   "metadata": {},
   "outputs": [
    {
     "name": "stdout",
     "output_type": "stream",
     "text": [
      "Jaccard similarity index = 0.7159\n",
      "f1-score = 0.6599\n",
      "Logaritmic Loss = 0.5694\n"
     ]
    }
   ],
   "source": [
    "from sklearn.linear_model import LogisticRegression\n",
    "from sklearn.metrics import jaccard_similarity_score\n",
    "from sklearn.metrics import f1_score\n",
    "from sklearn.metrics import log_loss\n",
    "\n",
    "LR_Class = LogisticRegression(C=0.01, solver='lbfgs').fit(X_train,y_train)\n",
    "yhat_LR = LR_Class.predict(X_test)\n",
    "yhat_LR_proba = LR_Class.predict_proba(X_test)\n",
    "\n",
    "LR_accu = jaccard_similarity_score(y_test, yhat_LR)\n",
    "LR_f1 = f1_score(y_test, yhat_LR, average='weighted')\n",
    "LR_logloss = log_loss(y_test, yhat_LR_proba)\n",
    "\n",
    "print(\"Jaccard similarity index = %.4f\" % LR_accu)\n",
    "print(\"f1-score = %.4f\" % LR_f1)\n",
    "print(\"Logaritmic Loss = %.4f\" % LR_logloss)"
   ]
  },
  {
   "cell_type": "markdown",
   "metadata": {},
   "source": [
    "#### 2.3.1. Confusion Matrix\n",
    "Confusion matrix is also calculated to check how many data are the model predicted correctly and incorrectly."
   ]
  },
  {
   "cell_type": "code",
   "execution_count": 24,
   "metadata": {},
   "outputs": [],
   "source": [
    "from sklearn.metrics import classification_report, confusion_matrix\n",
    "import itertools\n",
    "import matplotlib.pyplot as plt\n",
    "%matplotlib inline\n",
    "def plot_confusion_matrix(cm, classes,\n",
    "                          normalize=False,\n",
    "                          title='Confusion matrix',\n",
    "                          cmap=plt.cm.Blues):\n",
    "    \"\"\"\n",
    "    This function prints and plots the confusion matrix.\n",
    "    Normalization can be applied by setting `normalize=True`.\n",
    "    \"\"\"\n",
    "    if normalize:\n",
    "        cm = cm.astype('float') / cm.sum(axis=1)[:, np.newaxis]\n",
    "        print(\"Normalized confusion matrix\")\n",
    "    else:\n",
    "        print('Confusion matrix, without normalization')\n",
    "\n",
    "    print(cm)\n",
    "\n",
    "    plt.imshow(cm, interpolation='nearest', cmap=cmap)\n",
    "    plt.title(title)\n",
    "    plt.colorbar()\n",
    "    tick_marks = np.arange(len(classes))\n",
    "    plt.xticks(tick_marks, classes, rotation=45)\n",
    "    plt.yticks(tick_marks, classes)\n",
    "\n",
    "    fmt = '.2f' if normalize else 'd'\n",
    "    thresh = cm.max() / 2.\n",
    "    for i, j in itertools.product(range(cm.shape[0]), range(cm.shape[1])):\n",
    "        plt.text(j, i, format(cm[i, j], fmt),\n",
    "                 horizontalalignment=\"center\",\n",
    "                 color=\"white\" if cm[i, j] > thresh else \"black\")\n",
    "\n",
    "    plt.tight_layout()\n",
    "    plt.ylabel('True label')\n",
    "    plt.xlabel('Predicted label')"
   ]
  },
  {
   "cell_type": "code",
   "execution_count": 25,
   "metadata": {
    "scrolled": false
   },
   "outputs": [
    {
     "name": "stdout",
     "output_type": "stream",
     "text": [
      "Confusion matrix, without normalization\n",
      "[[ 2136  9312]\n",
      " [ 1448 24972]]\n"
     ]
    },
    {
     "data": {
      "image/png": "[encoded data removed]",
      "text/plain": [
       "<Figure size 432x288 with 2 Axes>"
      ]
     },
     "metadata": {
      "needs_background": "light"
     },
     "output_type": "display_data"
    }
   ],
   "source": [
    "# Compute confusion matrix\n",
    "cnf_matrix = confusion_matrix(y_test, yhat_LR, labels=[2,1])\n",
    "np.set_printoptions(precision=3)\n",
    "\n",
    "# Plot non-normalized confusion matrix\n",
    "plt.figure()\n",
    "plot_confusion_matrix(cnf_matrix, classes=['injury=2','damage=1'],normalize= False,  title='Confusion matrix')"
   ]
  },
  {
   "cell_type": "markdown",
   "metadata": {},
   "source": [
    "Classification report is calculated to check the precision, recall, and f1-score of the model"
   ]
  },
  {
   "cell_type": "code",
   "execution_count": 26,
   "metadata": {
    "scrolled": false
   },
   "outputs": [
    {
     "name": "stdout",
     "output_type": "stream",
     "text": [
      "              precision    recall  f1-score   support\n",
      "\n",
      "           1       0.73      0.95      0.82     26420\n",
      "           2       0.60      0.19      0.28     11448\n",
      "\n",
      "   micro avg       0.72      0.72      0.72     37868\n",
      "   macro avg       0.66      0.57      0.55     37868\n",
      "weighted avg       0.69      0.72      0.66     37868\n",
      "\n"
     ]
    }
   ],
   "source": [
    "print (classification_report(y_test, yhat_LR))"
   ]
  },
  {
   "cell_type": "markdown",
   "metadata": {},
   "source": [
    "## 4. Map Plotting\n",
    "Usage example of this model is to predict the severity of an accident, and its probability, that could occurs in a particular road type. This prediction value could be sent to the driver in real-time, or it could be a part of a digital city map. This map plotting will try to use 100 y_test data as an example to plot the accident severity probability prediction in a folium map.\n",
    "<br><br>\n",
    "The first step is selecting 100 data from predicted values yhat_LR, and concatenate it with the predicted value probability yhat_LR_proba."
   ]
  },
  {
   "cell_type": "code",
   "execution_count": 27,
   "metadata": {},
   "outputs": [
    {
     "name": "stdout",
     "output_type": "stream",
     "text": [
      "(100, 2)\n"
     ]
    },
    {
     "data": {
      "text/html": [
       "<div>\n",
       "<style scoped>\n",
       "    .dataframe tbody tr th:only-of-type {\n",
       "        vertical-align: middle;\n",
       "    }\n",
       "\n",
       "    .dataframe tbody tr th {\n",
       "        vertical-align: top;\n",
       "    }\n",
       "\n",
       "    .dataframe thead th {\n",
       "        text-align: right;\n",
       "    }\n",
       "</style>\n",
       "<table border=\"1\" class=\"dataframe\">\n",
       "  <thead>\n",
       "    <tr style=\"text-align: right;\">\n",
       "      <th></th>\n",
       "      <th>PROP_DAMAGE</th>\n",
       "      <th>INJURY</th>\n",
       "    </tr>\n",
       "  </thead>\n",
       "  <tbody>\n",
       "    <tr>\n",
       "      <th>0</th>\n",
       "      <td>0.246115</td>\n",
       "      <td>0.753885</td>\n",
       "    </tr>\n",
       "    <tr>\n",
       "      <th>1</th>\n",
       "      <td>0.793864</td>\n",
       "      <td>0.206136</td>\n",
       "    </tr>\n",
       "    <tr>\n",
       "      <th>2</th>\n",
       "      <td>0.723929</td>\n",
       "      <td>0.276071</td>\n",
       "    </tr>\n",
       "    <tr>\n",
       "      <th>3</th>\n",
       "      <td>0.832583</td>\n",
       "      <td>0.167417</td>\n",
       "    </tr>\n",
       "    <tr>\n",
       "      <th>4</th>\n",
       "      <td>0.903891</td>\n",
       "      <td>0.096109</td>\n",
       "    </tr>\n",
       "  </tbody>\n",
       "</table>\n",
       "</div>"
      ],
      "text/plain": [
       "   PROP_DAMAGE    INJURY\n",
       "0     0.246115  0.753885\n",
       "1     0.793864  0.206136\n",
       "2     0.723929  0.276071\n",
       "3     0.832583  0.167417\n",
       "4     0.903891  0.096109"
      ]
     },
     "execution_count": 27,
     "metadata": {},
     "output_type": "execute_result"
    }
   ],
   "source": [
    "yhat_prob_df = pd.DataFrame(yhat_LR_proba)\n",
    "yhat_prob_df = yhat_prob_df.head(100)\n",
    "yhat_prob_df.rename(columns={0:'PROP_DAMAGE', 1:'INJURY'}, inplace=True)\n",
    "print(yhat_prob_df.shape)\n",
    "yhat_prob_df.head()"
   ]
  },
  {
   "cell_type": "code",
   "execution_count": 28,
   "metadata": {},
   "outputs": [
    {
     "name": "stdout",
     "output_type": "stream",
     "text": [
      "(100, 12)\n"
     ]
    },
    {
     "data": {
      "text/html": [
       "<div>\n",
       "<style scoped>\n",
       "    .dataframe tbody tr th:only-of-type {\n",
       "        vertical-align: middle;\n",
       "    }\n",
       "\n",
       "    .dataframe tbody tr th {\n",
       "        vertical-align: top;\n",
       "    }\n",
       "\n",
       "    .dataframe thead th {\n",
       "        text-align: right;\n",
       "    }\n",
       "</style>\n",
       "<table border=\"1\" class=\"dataframe\">\n",
       "  <thead>\n",
       "    <tr style=\"text-align: right;\">\n",
       "      <th></th>\n",
       "      <th>LATITUDE</th>\n",
       "      <th>LONGITUDE</th>\n",
       "      <th>ADDRTYPE</th>\n",
       "      <th>PERSONCOUNT</th>\n",
       "      <th>VEHCOUNT</th>\n",
       "      <th>INATTENTIONIND</th>\n",
       "      <th>UNDERINFL</th>\n",
       "      <th>WEATHER</th>\n",
       "      <th>ROADCOND</th>\n",
       "      <th>LIGHTCOND</th>\n",
       "      <th>SPEEDING</th>\n",
       "      <th>SEVERITYCODE</th>\n",
       "    </tr>\n",
       "  </thead>\n",
       "  <tbody>\n",
       "    <tr>\n",
       "      <th>114279</th>\n",
       "      <td>47.617528</td>\n",
       "      <td>-122.343624</td>\n",
       "      <td>Intersection</td>\n",
       "      <td>6</td>\n",
       "      <td>2</td>\n",
       "      <td>0</td>\n",
       "      <td>1</td>\n",
       "      <td>Clear</td>\n",
       "      <td>Dry</td>\n",
       "      <td>Dark - Street Lights On</td>\n",
       "      <td>0</td>\n",
       "      <td>2</td>\n",
       "    </tr>\n",
       "    <tr>\n",
       "      <th>13346</th>\n",
       "      <td>47.730122</td>\n",
       "      <td>-122.293045</td>\n",
       "      <td>Block</td>\n",
       "      <td>3</td>\n",
       "      <td>3</td>\n",
       "      <td>0</td>\n",
       "      <td>0</td>\n",
       "      <td>Overcast</td>\n",
       "      <td>Dry</td>\n",
       "      <td>Daylight</td>\n",
       "      <td>1</td>\n",
       "      <td>1</td>\n",
       "    </tr>\n",
       "    <tr>\n",
       "      <th>133572</th>\n",
       "      <td>47.664981</td>\n",
       "      <td>-122.324519</td>\n",
       "      <td>Block</td>\n",
       "      <td>2</td>\n",
       "      <td>2</td>\n",
       "      <td>1</td>\n",
       "      <td>0</td>\n",
       "      <td>Clear</td>\n",
       "      <td>Dry</td>\n",
       "      <td>Daylight</td>\n",
       "      <td>0</td>\n",
       "      <td>1</td>\n",
       "    </tr>\n",
       "    <tr>\n",
       "      <th>51913</th>\n",
       "      <td>47.724075</td>\n",
       "      <td>-122.328906</td>\n",
       "      <td>Block</td>\n",
       "      <td>2</td>\n",
       "      <td>2</td>\n",
       "      <td>0</td>\n",
       "      <td>0</td>\n",
       "      <td>Overcast</td>\n",
       "      <td>Dry</td>\n",
       "      <td>Dawn</td>\n",
       "      <td>0</td>\n",
       "      <td>1</td>\n",
       "    </tr>\n",
       "    <tr>\n",
       "      <th>135451</th>\n",
       "      <td>47.570674</td>\n",
       "      <td>-122.288272</td>\n",
       "      <td>Block</td>\n",
       "      <td>2</td>\n",
       "      <td>2</td>\n",
       "      <td>0</td>\n",
       "      <td>0</td>\n",
       "      <td>Unknown</td>\n",
       "      <td>Unknown</td>\n",
       "      <td>Unknown</td>\n",
       "      <td>0</td>\n",
       "      <td>1</td>\n",
       "    </tr>\n",
       "  </tbody>\n",
       "</table>\n",
       "</div>"
      ],
      "text/plain": [
       "         LATITUDE   LONGITUDE      ADDRTYPE  PERSONCOUNT  VEHCOUNT  \\\n",
       "114279  47.617528 -122.343624  Intersection            6         2   \n",
       "13346   47.730122 -122.293045         Block            3         3   \n",
       "133572  47.664981 -122.324519         Block            2         2   \n",
       "51913   47.724075 -122.328906         Block            2         2   \n",
       "135451  47.570674 -122.288272         Block            2         2   \n",
       "\n",
       "        INATTENTIONIND  UNDERINFL   WEATHER ROADCOND                LIGHTCOND  \\\n",
       "114279               0          1     Clear      Dry  Dark - Street Lights On   \n",
       "13346                0          0  Overcast      Dry                 Daylight   \n",
       "133572               1          0     Clear      Dry                 Daylight   \n",
       "51913                0          0  Overcast      Dry                     Dawn   \n",
       "135451               0          0   Unknown  Unknown                  Unknown   \n",
       "\n",
       "        SPEEDING  SEVERITYCODE  \n",
       "114279         0             2  \n",
       "13346          1             1  \n",
       "133572         0             1  \n",
       "51913          0             1  \n",
       "135451         0             1  "
      ]
     },
     "execution_count": 28,
     "metadata": {},
     "output_type": "execute_result"
    }
   ],
   "source": [
    "y_test_df = pd.DataFrame(y_test_loc)\n",
    "y_map = clean_df.iloc[y_test_df.index].copy().head(100)\n",
    "print(y_map.shape)\n",
    "y_map.head()"
   ]
  },
  {
   "cell_type": "code",
   "execution_count": 29,
   "metadata": {},
   "outputs": [
    {
     "name": "stdout",
     "output_type": "stream",
     "text": [
      "(100, 14)\n"
     ]
    },
    {
     "data": {
      "text/html": [
       "<div>\n",
       "<style scoped>\n",
       "    .dataframe tbody tr th:only-of-type {\n",
       "        vertical-align: middle;\n",
       "    }\n",
       "\n",
       "    .dataframe tbody tr th {\n",
       "        vertical-align: top;\n",
       "    }\n",
       "\n",
       "    .dataframe thead th {\n",
       "        text-align: right;\n",
       "    }\n",
       "</style>\n",
       "<table border=\"1\" class=\"dataframe\">\n",
       "  <thead>\n",
       "    <tr style=\"text-align: right;\">\n",
       "      <th></th>\n",
       "      <th>LATITUDE</th>\n",
       "      <th>LONGITUDE</th>\n",
       "      <th>ADDRTYPE</th>\n",
       "      <th>PERSONCOUNT</th>\n",
       "      <th>VEHCOUNT</th>\n",
       "      <th>INATTENTIONIND</th>\n",
       "      <th>UNDERINFL</th>\n",
       "      <th>WEATHER</th>\n",
       "      <th>ROADCOND</th>\n",
       "      <th>LIGHTCOND</th>\n",
       "      <th>SPEEDING</th>\n",
       "      <th>SEVERITYCODE</th>\n",
       "      <th>PROP_DAMAGE</th>\n",
       "      <th>INJURY</th>\n",
       "    </tr>\n",
       "  </thead>\n",
       "  <tbody>\n",
       "    <tr>\n",
       "      <th>114279</th>\n",
       "      <td>47.617528</td>\n",
       "      <td>-122.343624</td>\n",
       "      <td>Intersection</td>\n",
       "      <td>6</td>\n",
       "      <td>2</td>\n",
       "      <td>0</td>\n",
       "      <td>1</td>\n",
       "      <td>Clear</td>\n",
       "      <td>Dry</td>\n",
       "      <td>Dark - Street Lights On</td>\n",
       "      <td>0</td>\n",
       "      <td>2</td>\n",
       "      <td>0.246115</td>\n",
       "      <td>0.753885</td>\n",
       "    </tr>\n",
       "    <tr>\n",
       "      <th>13346</th>\n",
       "      <td>47.730122</td>\n",
       "      <td>-122.293045</td>\n",
       "      <td>Block</td>\n",
       "      <td>3</td>\n",
       "      <td>3</td>\n",
       "      <td>0</td>\n",
       "      <td>0</td>\n",
       "      <td>Overcast</td>\n",
       "      <td>Dry</td>\n",
       "      <td>Daylight</td>\n",
       "      <td>1</td>\n",
       "      <td>1</td>\n",
       "      <td>0.793864</td>\n",
       "      <td>0.206136</td>\n",
       "    </tr>\n",
       "    <tr>\n",
       "      <th>133572</th>\n",
       "      <td>47.664981</td>\n",
       "      <td>-122.324519</td>\n",
       "      <td>Block</td>\n",
       "      <td>2</td>\n",
       "      <td>2</td>\n",
       "      <td>1</td>\n",
       "      <td>0</td>\n",
       "      <td>Clear</td>\n",
       "      <td>Dry</td>\n",
       "      <td>Daylight</td>\n",
       "      <td>0</td>\n",
       "      <td>1</td>\n",
       "      <td>0.723929</td>\n",
       "      <td>0.276071</td>\n",
       "    </tr>\n",
       "    <tr>\n",
       "      <th>51913</th>\n",
       "      <td>47.724075</td>\n",
       "      <td>-122.328906</td>\n",
       "      <td>Block</td>\n",
       "      <td>2</td>\n",
       "      <td>2</td>\n",
       "      <td>0</td>\n",
       "      <td>0</td>\n",
       "      <td>Overcast</td>\n",
       "      <td>Dry</td>\n",
       "      <td>Dawn</td>\n",
       "      <td>0</td>\n",
       "      <td>1</td>\n",
       "      <td>0.832583</td>\n",
       "      <td>0.167417</td>\n",
       "    </tr>\n",
       "    <tr>\n",
       "      <th>135451</th>\n",
       "      <td>47.570674</td>\n",
       "      <td>-122.288272</td>\n",
       "      <td>Block</td>\n",
       "      <td>2</td>\n",
       "      <td>2</td>\n",
       "      <td>0</td>\n",
       "      <td>0</td>\n",
       "      <td>Unknown</td>\n",
       "      <td>Unknown</td>\n",
       "      <td>Unknown</td>\n",
       "      <td>0</td>\n",
       "      <td>1</td>\n",
       "      <td>0.903891</td>\n",
       "      <td>0.096109</td>\n",
       "    </tr>\n",
       "  </tbody>\n",
       "</table>\n",
       "</div>"
      ],
      "text/plain": [
       "         LATITUDE   LONGITUDE      ADDRTYPE  PERSONCOUNT  VEHCOUNT  \\\n",
       "114279  47.617528 -122.343624  Intersection            6         2   \n",
       "13346   47.730122 -122.293045         Block            3         3   \n",
       "133572  47.664981 -122.324519         Block            2         2   \n",
       "51913   47.724075 -122.328906         Block            2         2   \n",
       "135451  47.570674 -122.288272         Block            2         2   \n",
       "\n",
       "        INATTENTIONIND  UNDERINFL   WEATHER ROADCOND                LIGHTCOND  \\\n",
       "114279               0          1     Clear      Dry  Dark - Street Lights On   \n",
       "13346                0          0  Overcast      Dry                 Daylight   \n",
       "133572               1          0     Clear      Dry                 Daylight   \n",
       "51913                0          0  Overcast      Dry                     Dawn   \n",
       "135451               0          0   Unknown  Unknown                  Unknown   \n",
       "\n",
       "        SPEEDING  SEVERITYCODE  PROP_DAMAGE    INJURY  \n",
       "114279         0             2     0.246115  0.753885  \n",
       "13346          1             1     0.793864  0.206136  \n",
       "133572         0             1     0.723929  0.276071  \n",
       "51913          0             1     0.832583  0.167417  \n",
       "135451         0             1     0.903891  0.096109  "
      ]
     },
     "execution_count": 29,
     "metadata": {},
     "output_type": "execute_result"
    }
   ],
   "source": [
    "y_map['PROP_DAMAGE'] = yhat_prob_df['PROP_DAMAGE'].values\n",
    "y_map['INJURY'] = yhat_prob_df['INJURY'].values\n",
    "print(y_map.shape)\n",
    "y_map.head()"
   ]
  },
  {
   "cell_type": "markdown",
   "metadata": {},
   "source": [
    "Create labels for plotting in each coordinate."
   ]
  },
  {
   "cell_type": "code",
   "execution_count": 79,
   "metadata": {},
   "outputs": [],
   "source": [
    "road_type = list(y_map.ADDRTYPE)\n",
    "weather = list(y_map.WEATHER)\n",
    "road_cond = list(y_map.ROADCOND)\n",
    "light = list(y_map.LIGHTCOND)\n",
    "damage = list(y_map.PROP_DAMAGE)\n",
    "injury = list(y_map.INJURY)\n",
    "labels = []\n",
    "\n",
    "for i, lbl in enumerate(road_type):\n",
    "    temp_lbl = \"Road Type: \" + str(lbl) + \"; \" +\\\n",
    "                \"Weather: \" + str(weather[i]) + \"; \" +\\\n",
    "                \"Road Cond.: \" + str(road_cond[i]) + \"; \" +\\\n",
    "                \"Light Cond.: \" + str(light[i]) + \"; \" +\\\n",
    "                \"Prop. Damage Prob.: \" + str(round(damage[i]*100, 2)) + \"%; \" +\\\n",
    "                \"Injury Prob.: \" + str(round(injury[i]*100,2)) + \"%; \"\n",
    "    labels.append(temp_lbl)"
   ]
  },
  {
   "cell_type": "markdown",
   "metadata": {},
   "source": [
    "Plot the data in Seattle City map."
   ]
  },
  {
   "cell_type": "code",
   "execution_count": 80,
   "metadata": {},
   "outputs": [],
   "source": [
    "import folium\n",
    "seattle_map = folium.Map(location=[47.608013, -122.335167], zoom_start=11)"
   ]
  },
  {
   "cell_type": "code",
   "execution_count": 81,
   "metadata": {},
   "outputs": [
    {
     "data": {
      "text/html": [
       "<div style=\"width:100%;\"><div style=\"position:relative;width:100%;height:0;padding-bottom:60%;\"><span style=\"color:#565656\">Make this Notebook Trusted to load map: File -> Trust Notebook</span><iframe src=\"about:blank\" style=\"position:absolute;width:100%;height:100%;left:0;top:0;border:none !important;\" data-html=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 onload=\"this.contentDocument.open();this.contentDocument.write(atob(this.getAttribute('data-html')));this.contentDocument.close();\" allowfullscreen webkitallowfullscreen mozallowfullscreen></iframe></div></div>"
      ],
      "text/plain": [
       "<folium.folium.Map at 0x1f43d2a3b08>"
      ]
     },
     "execution_count": 81,
     "metadata": {},
     "output_type": "execute_result"
    }
   ],
   "source": [
    "# loop through the 100 accidents and add each to the map\n",
    "for lat, lng, label in zip(y_map.LATITUDE, y_map.LONGITUDE, labels):\n",
    "    folium.features.CircleMarker(\n",
    "        [lat, lng],\n",
    "        radius=5, # define how big you want the circle markers to be\n",
    "        color='red',\n",
    "        fill=True,\n",
    "        popup=label,\n",
    "        fill_color='orange',\n",
    "        fill_opacity=0.6\n",
    "    ).add_to(seattle_map)\n",
    "\n",
    "# show map\n",
    "seattle_map"
   ]
  },
  {
   "cell_type": "code",
   "execution_count": null,
   "metadata": {},
   "outputs": [],
   "source": []
  }
 ],
 "metadata": {
  "kernelspec": {
   "display_name": "Python 3",
   "language": "python",
   "name": "python3"
  },
  "language_info": {
   "codemirror_mode": {
    "name": "ipython",
    "version": 3
   },
   "file_extension": ".py",
   "mimetype": "text/x-python",
   "name": "python",
   "nbconvert_exporter": "python",
   "pygments_lexer": "ipython3",
   "version": "3.7.6"
  }
 },
 "nbformat": 4,
 "nbformat_minor": 4
}
